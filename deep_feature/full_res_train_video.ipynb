{
 "cells": [
  {
   "cell_type": "code",
   "execution_count": 1,
   "metadata": {
    "pycharm": {
     "is_executing": false
    }
   },
   "outputs": [],
   "source": [
    "import tensorflow as tf\n",
    "from tensorflow.keras import layers\n",
    "from tensorflow import keras \n",
    "\n",
    "import os\n",
    "import time\n",
    "from datetime import datetime\n",
    "\n",
    "from matplotlib import pyplot as plt\n",
    "from IPython import display\n",
    "import numpy as np\n",
    "from tqdm import tqdm\n",
    "import cv2"
   ]
  },
  {
   "cell_type": "markdown",
   "metadata": {},
   "source": [
    "## Create training dataset"
   ]
  },
  {
   "cell_type": "code",
   "execution_count": 2,
   "metadata": {},
   "outputs": [],
   "source": [
    "USC_FOLDERS = [r\"/shared/data1/Video_data_small/usc\"]\n",
    "GT_FOLDERS = [r\"/shared/data1/Video_data_small/gt\"]"
   ]
  },
  {
   "cell_type": "code",
   "execution_count": 3,
   "metadata": {},
   "outputs": [],
   "source": [
    "from train_utils.utils  import dataset, image_io, image_transform\n",
    "from train_utils.train  import losses, train_step"
   ]
  },
  {
   "cell_type": "code",
   "execution_count": 5,
   "metadata": {},
   "outputs": [],
   "source": [
    "png_image_reader = image_io.ImageReaderPNG(transform_list=None)"
   ]
  },
  {
   "cell_type": "code",
   "execution_count": 53,
   "metadata": {},
   "outputs": [
    {
     "name": "stderr",
     "output_type": "stream",
     "text": [
      "100%|██████████| 303/303 [00:18<00:00, 16.36it/s]\n"
     ]
    }
   ],
   "source": [
    "usc_arrays = dataset.get_images_array(folders_list=USC_FOLDERS, image_reader=png_image_reader, images_extension='.png')"
   ]
  },
  {
   "cell_type": "code",
   "execution_count": 54,
   "metadata": {},
   "outputs": [
    {
     "name": "stderr",
     "output_type": "stream",
     "text": [
      "100%|██████████| 303/303 [00:18<00:00, 16.08it/s]\n"
     ]
    }
   ],
   "source": [
    "gt_arrays = dataset.get_images_array(folders_list=GT_FOLDERS, image_reader=png_image_reader, images_extension='.png')"
   ]
  },
  {
   "cell_type": "code",
   "execution_count": 55,
   "metadata": {},
   "outputs": [],
   "source": [
    "def img_resize(image):\n",
    "    new_img = cv2.resize(image, (1920//4, 1080//4))\n",
    "    #print('resized')\n",
    "    return new_img"
   ]
  },
  {
   "cell_type": "code",
   "execution_count": 56,
   "metadata": {},
   "outputs": [
    {
     "name": "stderr",
     "output_type": "stream",
     "text": [
      "100%|██████████| 303/303 [00:00<00:00, 687.24it/s]\n"
     ]
    }
   ],
   "source": [
    "usc_arrays_downscaled = [img_resize(image) for image in tqdm(usc_arrays)]"
   ]
  },
  {
   "cell_type": "code",
   "execution_count": 57,
   "metadata": {},
   "outputs": [
    {
     "name": "stderr",
     "output_type": "stream",
     "text": [
      "100%|██████████| 303/303 [00:00<00:00, 2735.47it/s]\n"
     ]
    }
   ],
   "source": [
    "gt_arrays_downscaled = [img_resize(image) for image in tqdm(gt_arrays)]"
   ]
  },
  {
   "cell_type": "code",
   "execution_count": 4,
   "metadata": {},
   "outputs": [],
   "source": [
    "usc_arrays_downscaled = np.load(\"/home/p00536919/Flare_removal/Downscale_ref/usc_arrays_flare_only.npz\")['arr_0']\n",
    "gt_arrays_downscaled = np.load(\"/home/p00536919/Flare_removal/Downscale_ref/gt_arrays_flare_only.npz\")['arr_0']\n",
    "\n",
    "usc_arrays = np.load(\"/home/p00536919/Flare_removal/Downscale_ref/usc_arrays_flare_only_full.npz\")['arr_0']\n",
    "gt_arrays = np.load(\"/home/p00536919/Flare_removal/Downscale_ref/gt_arrays_flare_only_full.npz\")['arr_0']"
   ]
  },
  {
   "cell_type": "code",
   "execution_count": 12,
   "metadata": {},
   "outputs": [],
   "source": [
    "#training_dataset = (usc_arrays_downscaled, gt_arrays_downscaled)"
   ]
  },
  {
   "cell_type": "code",
   "execution_count": 13,
   "metadata": {},
   "outputs": [],
   "source": [
    "#train_data_generator = dataset.DataGenerator(training_dataset, patch_size=256, batch_size=1, image_size=(2448//8, 3264//8), shuffle=True, pad=2)"
   ]
  },
  {
   "cell_type": "markdown",
   "metadata": {},
   "source": [
    "## GPU selection"
   ]
  },
  {
   "cell_type": "code",
   "execution_count": 8,
   "metadata": {},
   "outputs": [],
   "source": [
    "physical_devices = tf.config.experimental.list_physical_devices('GPU')\n",
    "tf.config.experimental.set_memory_growth(physical_devices[0], True) \n",
    "tf.config.experimental.set_visible_devices(physical_devices[0], 'GPU')"
   ]
  },
  {
   "cell_type": "code",
   "execution_count": 9,
   "metadata": {},
   "outputs": [],
   "source": [
    "tf.keras.backend.clear_session()"
   ]
  },
  {
   "cell_type": "code",
   "execution_count": 7,
   "metadata": {},
   "outputs": [
    {
     "name": "stderr",
     "output_type": "stream",
     "text": [
      "100%|██████████| 303/303 [00:19<00:00, 15.77it/s]\n"
     ]
    }
   ],
   "source": [
    "from guided_filter_tf.guided_filter import guided_filter\n",
    "\n",
    "for num, (usc_image, gt_image) in tqdm(list(enumerate(zip(usc_arrays, gt_arrays)))):\n",
    "    \n",
    "    gt_image = guided_filter(x=tf.cast(gt_image[np.newaxis, :, :, :], tf.float32),\n",
    "                             y=tf.cast(usc_image[np.newaxis, :, :, :], tf.float32), r=100, nhwc=True)\n",
    "    gt_image = gt_image.numpy()[0]\n",
    "    gt_arrays[num] = gt_image"
   ]
  },
  {
   "cell_type": "code",
   "execution_count": 9,
   "metadata": {},
   "outputs": [],
   "source": [
    "#training_dataset = (usc_arrays_downscaled, gt_arrays_downscaled)"
   ]
  },
  {
   "cell_type": "code",
   "execution_count": 10,
   "metadata": {},
   "outputs": [],
   "source": [
    "#train_data_generator = dataset.DataGenerator(training_dataset, patch_size=224, batch_size=1, image_size=(1080//4, 1920//4), shuffle=True, pad=2)"
   ]
  },
  {
   "cell_type": "markdown",
   "metadata": {},
   "source": [
    "### Clear logs"
   ]
  },
  {
   "cell_type": "code",
   "execution_count": 40,
   "metadata": {},
   "outputs": [],
   "source": [
    "#!RMDIR /Q /S G:\\logs\\flare_removal\n",
    "#!rm -rf /shared/p00536919/logs/flare_removal"
   ]
  },
  {
   "cell_type": "markdown",
   "metadata": {},
   "source": [
    "## Build models"
   ]
  },
  {
   "cell_type": "markdown",
   "metadata": {
    "jupyter": {
     "outputs_hidden": false
    },
    "pycharm": {
     "is_executing": false,
     "name": "#%%\n"
    }
   },
   "source": [
    "### Generator"
   ]
  },
  {
   "cell_type": "code",
   "execution_count": 10,
   "metadata": {},
   "outputs": [],
   "source": [
    "def conv_block(growth_rate, filters, kernel_size, strides, x):\n",
    "    x = tf.keras.layers.Conv2D(growth_rate * filters, kernel_size, padding='same', strides=strides, data_format='channels_first')(x)\n",
    "    x = tf.keras.layers.LeakyReLU()(x)\n",
    "    return x\n",
    "\n",
    "\n",
    "def dilated_conv_block(growth_rate, filters, kernel_size, dilation_rate, x):\n",
    "    x = tf.keras.layers.Conv2D(growth_rate * filters, kernel_size, padding='same', dilation_rate=dilation_rate, data_format='channels_first')(x)\n",
    "    x = tf.keras.layers.LeakyReLU()(x)\n",
    "    return x\n",
    "\n",
    "\n",
    "def conv_skip_block(growth_rate, filters, kernel_size, x):\n",
    "    x = tf.keras.layers.Conv2DTranspose(growth_rate * filters, kernel_size, padding='same', data_format='channels_first')(x)\n",
    "    x = tf.keras.layers.LeakyReLU()(x)\n",
    "    return x\n",
    "\n",
    "\n",
    "def deconv_block(growth_rate, filters, kernel_size, strides, x):\n",
    "    x = tf.keras.layers.Conv2DTranspose(growth_rate * filters, kernel_size, padding='same', strides=strides, data_format='channels_first')(x)\n",
    "    x = tf.keras.layers.AveragePooling2D((2, 2), 1, padding='same', data_format='channels_first')(x)\n",
    "    x = tf.keras.layers.LeakyReLU()(x)\n",
    "    return x"
   ]
  },
  {
   "cell_type": "code",
   "execution_count": 11,
   "metadata": {},
   "outputs": [],
   "source": [
    "def Generator(height=None, width=None, input_channels=3, filters=16):\n",
    "\n",
    "    inputs = tf.keras.Input(shape=[input_channels, height, width])\n",
    "\n",
    "    x = dilated_conv_block(growth_rate=2, filters=filters, kernel_size=(5, 5), dilation_rate=8, x=inputs)\n",
    "    res1 = x\n",
    "\n",
    "    x = dilated_conv_block(growth_rate=4, filters=filters, kernel_size=(3, 3), dilation_rate=4, x=x)\n",
    "    x = dilated_conv_block(growth_rate=4, filters=filters, kernel_size=(3, 3), dilation_rate=4, x=x)\n",
    "    x = tf.keras.layers.AveragePooling2D((2, 2), 2, padding='same', data_format='channels_first')(x)\n",
    "    x = dilated_conv_block(growth_rate=4, filters=filters, kernel_size=(3, 3), dilation_rate=4, x=x)\n",
    "    x = dilated_conv_block(growth_rate=4, filters=filters, kernel_size=(3, 3), dilation_rate=4, x=x)\n",
    "    res2 = x\n",
    "\n",
    "    x = dilated_conv_block(growth_rate=4, filters=filters, kernel_size=(3, 3), dilation_rate=4, x=x)\n",
    "    x = tf.keras.layers.AveragePooling2D((2, 2), 2, padding='same', data_format='channels_first')(x)\n",
    "    x = dilated_conv_block(growth_rate=8, filters=filters, kernel_size=(3, 3), dilation_rate=4, x=x)\n",
    "    x = dilated_conv_block(growth_rate=8, filters=filters, kernel_size=(3, 3), dilation_rate=4, x=x)\n",
    "    x = dilated_conv_block(growth_rate=8, filters=filters, kernel_size=(3, 3), dilation_rate=4, x=x)\n",
    "    x = dilated_conv_block(growth_rate=8, filters=filters, kernel_size=(3, 3), dilation_rate=4, x=x)\n",
    "\n",
    "    x = deconv_block(growth_rate=4, filters=filters, kernel_size=(4, 4), strides=2, x=x)\n",
    "\n",
    "    x = tf.keras.layers.Concatenate(axis=1)([x, res2])\n",
    "    x = conv_skip_block(growth_rate=4, filters=filters, kernel_size=(1, 1), x=x)\n",
    "\n",
    "    x = dilated_conv_block(growth_rate=8, filters=filters, kernel_size=(3, 3), dilation_rate=2, x=x)\n",
    "\n",
    "    x = deconv_block(growth_rate=2, filters=filters, kernel_size=(4, 4), strides=2, x=x)\n",
    "\n",
    "    x = tf.keras.layers.Concatenate(axis=1)([x, res1])\n",
    "    x = conv_skip_block(growth_rate=2, filters=filters, kernel_size=(1, 1), x=x)\n",
    "\n",
    "    x = dilated_conv_block(growth_rate=1, filters=filters, kernel_size=(3, 3), dilation_rate=1, x=x)\n",
    "    x = tf.keras.layers.Conv2D(3, (3, 3), padding='same', data_format='channels_first')(x)\n",
    "    x = tf.keras.layers.Subtract()([inputs[:,:3,:,:], x])\n",
    "    \n",
    "    _model = tf.keras.Model(inputs=inputs, outputs=x, name='derain_net')\n",
    "    return _model    \n"
   ]
  },
  {
   "cell_type": "code",
   "execution_count": 12,
   "metadata": {},
   "outputs": [],
   "source": [
    "def Generator_downscale(height=None, width=None, input_channels=3, filters=16):\n",
    "\n",
    "    inputs = tf.keras.Input(shape=[input_channels, height, width])\n",
    "\n",
    "    x = dilated_conv_block(growth_rate=2, filters=filters, kernel_size=(9, 9), dilation_rate=16, x=inputs)\n",
    "    x = dilated_conv_block(growth_rate=4, filters=filters, kernel_size=(5, 5), dilation_rate=8, x=x)\n",
    "    x = dilated_conv_block(growth_rate=4, filters=filters, kernel_size=(3, 3), dilation_rate=4, x=x)\n",
    "    res1 = x\n",
    "\n",
    "    x = dilated_conv_block(growth_rate=4, filters=filters, kernel_size=(3, 3), dilation_rate=4, x=x)\n",
    "    x = dilated_conv_block(growth_rate=4, filters=filters, kernel_size=(3, 3), dilation_rate=4, x=x)\n",
    "    x = tf.keras.layers.AveragePooling2D((2, 2), 2, padding='same', data_format='channels_first')(x)\n",
    "    x = dilated_conv_block(growth_rate=4, filters=filters, kernel_size=(3, 3), dilation_rate=4, x=x)\n",
    "    x = dilated_conv_block(growth_rate=4, filters=filters, kernel_size=(3, 3), dilation_rate=4, x=x)\n",
    "    res2 = x\n",
    "\n",
    "    x = dilated_conv_block(growth_rate=4, filters=filters, kernel_size=(3, 3), dilation_rate=4, x=x)\n",
    "    x = tf.keras.layers.AveragePooling2D((2, 2), 2, padding='same', data_format='channels_first')(x)\n",
    "    x = dilated_conv_block(growth_rate=8, filters=filters, kernel_size=(3, 3), dilation_rate=4, x=x)\n",
    "    x = dilated_conv_block(growth_rate=8, filters=filters, kernel_size=(3, 3), dilation_rate=4, x=x)\n",
    "    x = dilated_conv_block(growth_rate=8, filters=filters, kernel_size=(3, 3), dilation_rate=4, x=x)\n",
    "    x = dilated_conv_block(growth_rate=8, filters=filters, kernel_size=(3, 3), dilation_rate=4, x=x)\n",
    "\n",
    "    x = deconv_block(growth_rate=4, filters=filters, kernel_size=(4, 4), strides=2, x=x)\n",
    "\n",
    "    x = tf.keras.layers.Concatenate(axis=1)([x, res2])\n",
    "    x = conv_skip_block(growth_rate=4, filters=filters, kernel_size=(1, 1), x=x)\n",
    "\n",
    "    x = dilated_conv_block(growth_rate=8, filters=filters, kernel_size=(3, 3), dilation_rate=2, x=x)\n",
    "\n",
    "    x = deconv_block(growth_rate=2, filters=filters, kernel_size=(4, 4), strides=2, x=x)\n",
    "\n",
    "    x = tf.keras.layers.Concatenate(axis=1)([x, res1])\n",
    "    x = conv_skip_block(growth_rate=2, filters=filters, kernel_size=(1, 1), x=x)\n",
    "\n",
    "    x = dilated_conv_block(growth_rate=1, filters=filters, kernel_size=(3, 3), dilation_rate=1, x=x)\n",
    "    x = tf.keras.layers.Conv2D(3, (3, 3), padding='same', data_format='channels_first')(x)\n",
    "    x = tf.keras.layers.Activation('tanh')(x)\n",
    "    x = tf.keras.layers.Subtract()([inputs, x])\n",
    "    x = tf.keras.layers.Conv2D(3, (3, 3), activation='sigmoid', padding='same', data_format='channels_first')(x)\n",
    "    \n",
    "    _model = tf.keras.Model(inputs=inputs, outputs=x, name='derain_net')\n",
    "    return _model "
   ]
  },
  {
   "cell_type": "code",
   "execution_count": 13,
   "metadata": {},
   "outputs": [],
   "source": [
    "generator_full = Generator(height=None, width=None, input_channels=6, filters=16)"
   ]
  },
  {
   "cell_type": "code",
   "execution_count": 44,
   "metadata": {},
   "outputs": [],
   "source": [
    "#generator_full.summary()"
   ]
  },
  {
   "cell_type": "code",
   "execution_count": 45,
   "metadata": {},
   "outputs": [],
   "source": [
    "generator_full.save('deflare.h5')"
   ]
  },
  {
   "cell_type": "code",
   "execution_count": 46,
   "metadata": {},
   "outputs": [],
   "source": [
    "import netron"
   ]
  },
  {
   "cell_type": "code",
   "execution_count": 47,
   "metadata": {},
   "outputs": [
    {
     "name": "stdout",
     "output_type": "stream",
     "text": [
      "Serving 'deflare.h5' at http://localhost:8989\n"
     ]
    }
   ],
   "source": [
    "netron.start('deflare.h5', port=8989)"
   ]
  },
  {
   "cell_type": "code",
   "execution_count": 48,
   "metadata": {},
   "outputs": [
    {
     "name": "stdout",
     "output_type": "stream",
     "text": [
      "\n",
      "Stopping http://localhost:8989\n"
     ]
    }
   ],
   "source": [
    "netron.stop(port=8989)"
   ]
  },
  {
   "cell_type": "markdown",
   "metadata": {},
   "source": [
    "## Guidance data preparation"
   ]
  },
  {
   "cell_type": "code",
   "execution_count": 14,
   "metadata": {},
   "outputs": [],
   "source": [
    "fake_optimizer = tf.keras.optimizers.Adam(beta_1=0.5)\n",
    "guidance_cnn = Generator_downscale(input_channels=3, filters=32)\n",
    "guidance_cnn.load_weights(r\"/home/p00536919/Flare_removal/Downscale_ref/20210303_dilation_stack_activations_shift.hdf5\")"
   ]
  },
  {
   "cell_type": "code",
   "execution_count": 57,
   "metadata": {},
   "outputs": [],
   "source": [
    "checkpoint = tf.train.Checkpoint(generator_optimizer=fake_optimizer, generator=guidance_cnn)"
   ]
  },
  {
   "cell_type": "code",
   "execution_count": 58,
   "metadata": {},
   "outputs": [
    {
     "data": {
      "text/plain": [
       "<tensorflow.python.training.tracking.util.CheckpointLoadStatus at 0x7ef9345b2070>"
      ]
     },
     "execution_count": 58,
     "metadata": {},
     "output_type": "execute_result"
    }
   ],
   "source": [
    "checkpoint.restore(r\"/shared/p00536919/training_checkpoints/flare_removal/20210211-164544_flare_only/ckpt-33\")"
   ]
  },
  {
   "cell_type": "code",
   "execution_count": 15,
   "metadata": {},
   "outputs": [],
   "source": [
    "def prepare_full_res_guidance(usc_downscaled_image, cnn):\n",
    "    paddings = tf.constant([[0,0],[0, 2], [0, 0],[0,0]])\n",
    "    padded_image = tf.cast(usc_downscaled_image[np.newaxis,:,:,:], tf.float32)\n",
    "    padded_image = tf.pad(padded_image, paddings, \"SYMMETRIC\")\n",
    "    cnn_out = cnn(tf.transpose(padded_image,[0,3,1,2]))\n",
    "    np_out = tf.transpose(cnn_out,[0,2,3,1]).numpy()[0][:-2]\n",
    "    np_out = np.clip(np_out, 0, 1)\n",
    "    np_out = cv2.resize(np_out, (1920, 1080), interpolation = cv2.INTER_LINEAR)\n",
    "    return np_out"
   ]
  },
  {
   "cell_type": "code",
   "execution_count": 16,
   "metadata": {},
   "outputs": [
    {
     "name": "stderr",
     "output_type": "stream",
     "text": [
      "100%|██████████| 303/303 [00:37<00:00,  8.02it/s]\n"
     ]
    }
   ],
   "source": [
    "usc_fullres_guidnance_arrays = [prepare_full_res_guidance(image, guidance_cnn) for image in tqdm(usc_arrays_downscaled)] "
   ]
  },
  {
   "cell_type": "code",
   "execution_count": 17,
   "metadata": {},
   "outputs": [
    {
     "name": "stderr",
     "output_type": "stream",
     "text": [
      "303it [00:13, 22.83it/s]\n"
     ]
    }
   ],
   "source": [
    "usc_concatenated_fullres_arrays = [np.dstack([usc_image, usc_guidance]) for \n",
    "                                   (usc_image, usc_guidance) in tqdm(zip(usc_arrays, usc_fullres_guidnance_arrays))]"
   ]
  },
  {
   "cell_type": "code",
   "execution_count": 18,
   "metadata": {},
   "outputs": [],
   "source": [
    "training_dataset = (usc_concatenated_fullres_arrays, gt_arrays)"
   ]
  },
  {
   "cell_type": "code",
   "execution_count": 19,
   "metadata": {},
   "outputs": [],
   "source": [
    "train_data_generator = dataset.DataGenerator(training_dataset, patch_size=896, batch_size=1, image_size=(1080, 1920), shuffle=True, pad=11)"
   ]
  },
  {
   "cell_type": "markdown",
   "metadata": {},
   "source": [
    "## Define losses"
   ]
  },
  {
   "cell_type": "markdown",
   "metadata": {},
   "source": [
    "### Generator loss"
   ]
  },
  {
   "cell_type": "code",
   "execution_count": 20,
   "metadata": {},
   "outputs": [],
   "source": [
    "from train_utils.train  import losses"
   ]
  },
  {
   "cell_type": "code",
   "execution_count": 21,
   "metadata": {},
   "outputs": [],
   "source": [
    "vgg16_loss_1_3 = losses.make_VGG16_loss(blocks_dict={1:1, 3:1}, \n",
    "                                          weights_path=r\"/home/p00536919/usc-image-enhancement/srs_refactor/refactored_pipeline/vgg16_weights_tf_dim_ordering_tf_kernels_notop.h5\",\n",
    "                                          loss_type='MSE')"
   ]
  },
  {
   "cell_type": "code",
   "execution_count": 22,
   "metadata": {},
   "outputs": [],
   "source": [
    "def generator_loss(gen_output, target):\n",
    "    \n",
    "    gen_output = tf.transpose(gen_output, [0,2,3,1])\n",
    "    target = tf.transpose(target, [0,2,3,1])\n",
    "    \n",
    "    l1_loss_val = losses.L1_loss(target, gen_output)\n",
    "    \n",
    "    ms_ssim_loss_val = (1 - tf.math.reduce_mean(tf.image.ssim_multiscale(target, gen_output, 1, power_factors=(0.4, 0.25, 0.25, 0.2363, 0.1333))))# + (1 - tf.math.reduce_mean(tf.image.ssim_multiscale(target_upscaled, gen_output_upscaled, 1, power_factors=(0.4, 0.25, 0.25, 0.2363, 0.1333))))\n",
    "\n",
    "    \n",
    "    vgg_loss_val = vgg16_loss_1_3(tf.image.resize(target, [224,224]), tf.image.resize(gen_output, [224,224]))\n",
    "\n",
    "    total_gen_loss_val = 0.5 * l1_loss_val + 1 * ms_ssim_loss_val  + 0.08 * vgg_loss_val\n",
    "\n",
    "    return total_gen_loss_val, [l1_loss_val, ms_ssim_loss_val, vgg_loss_val]"
   ]
  },
  {
   "cell_type": "markdown",
   "metadata": {},
   "source": [
    "## Define the Optimizers and Checkpoint-saver"
   ]
  },
  {
   "cell_type": "code",
   "execution_count": 62,
   "metadata": {},
   "outputs": [],
   "source": [
    "#generator_optimizer = tf.keras.optimizers.Adam(lr=2e-4, beta_1=0.25, beta_2=0.75)\n",
    "import tensorflow_addons as tfa\n",
    "\n",
    "radam = tfa.optimizers.RectifiedAdam(lr=2e-6)\n",
    "generator_optimizer = tfa.optimizers.Lookahead(radam, sync_period=6, slow_step_size=0.5)"
   ]
  },
  {
   "cell_type": "code",
   "execution_count": 24,
   "metadata": {},
   "outputs": [],
   "source": [
    "checkpoint_dir = '/shared/p00536919/training_checkpoints/flare_removal/' + datetime.now().strftime(\"%Y%m%d-%H%M%S\") + \"_full_res_video\"\n",
    "checkpoint_prefix = os.path.join(checkpoint_dir, \"ckpt\")\n",
    "checkpoint = tf.train.Checkpoint(generator_optimizer=generator_optimizer, generator=generator_full)"
   ]
  },
  {
   "cell_type": "markdown",
   "metadata": {},
   "source": [
    "## Training"
   ]
  },
  {
   "cell_type": "code",
   "execution_count": 25,
   "metadata": {},
   "outputs": [],
   "source": [
    "log_dir=r\"/shared/p00536919/logs/flare_removal/\"\n",
    "\n",
    "summary_writer = tf.summary.create_file_writer(\n",
    "  log_dir + \"fit/\" + datetime.now().strftime(\"%Y%m%d-%H%M%S\") + \"_full_res_video\")\n",
    "\n",
    "file_writer_img = tf.summary.create_file_writer(log_dir + \"fit/\" + datetime.now().strftime(\"%Y%m%d-%H%M%S\")  + \"_full_res_video\" + '/img')"
   ]
  },
  {
   "cell_type": "code",
   "execution_count": 35,
   "metadata": {},
   "outputs": [],
   "source": [
    "import albumentations as A"
   ]
  },
  {
   "cell_type": "code",
   "execution_count": 46,
   "metadata": {},
   "outputs": [],
   "source": [
    "transform = A.Compose(\n",
    "    [A.ShiftScaleRotate(scale_limit=[-0.01, 5], rotate_limit=180, interpolation=cv2.INTER_CUBIC, border_mode=cv2.BORDER_REFLECT_101, p=0.8),\n",
    "     A.HueSaturationValue(hue_shift_limit=20/255, sat_shift_limit=20/255, val_shift_limit=30/255, always_apply=False, p=0.25),\n",
    "     A.ChannelShuffle(p=0.25)],\n",
    "    additional_targets={'image0': 'image', 'image1': 'image'}\n",
    ")"
   ]
  },
  {
   "cell_type": "code",
   "execution_count": 63,
   "metadata": {},
   "outputs": [],
   "source": [
    "from train_utils.train  import train_step "
   ]
  },
  {
   "cell_type": "code",
   "execution_count": 64,
   "metadata": {},
   "outputs": [],
   "source": [
    "train_step = train_step.make_train_step()"
   ]
  },
  {
   "cell_type": "code",
   "execution_count": 65,
   "metadata": {},
   "outputs": [],
   "source": [
    "def fit(epochs, run):\n",
    "           \n",
    "    for epoch in range(epochs):  \n",
    "        epoch += int(epochs * run)\n",
    "        start = time.time()\n",
    "        display.clear_output(wait=True)\n",
    "        \n",
    "        if (epoch+1) % 50 == 0:\n",
    "            generator_full.save_weights(\"log_weights2_full.hdf5\")\n",
    "            with tf.device('/GPU:0'):\n",
    "                tf.keras.backend.clear_session()\n",
    "                test_generator = Generator(height=None, width=None, input_channels=6, filters=16)\n",
    "                test_generator.load_weights('log_weights2_full.hdf5')                \n",
    "                ing_index = np.random.randint(len(usc_concatenated_fullres_arrays))\n",
    "                test_image = usc_concatenated_fullres_arrays[ing_index][np.newaxis, :, :, :]\n",
    "                test_image = tf.cast(test_image, tf.float32)\n",
    "                preds = test_generator(tf.transpose(test_image,[0,3,1,2]), training=True)  \n",
    "                preds = tf.transpose(preds, [0,2,3,1])\n",
    "            \n",
    "            with file_writer_img.as_default():                \n",
    "                tf.summary.image(\"Input_image\", usc_arrays[ing_index][np.newaxis, :, :, :], step=epoch)\n",
    "                tf.summary.image(\"Ground truth\", gt_arrays[ing_index][np.newaxis, :, :, :], step=epoch)\n",
    "                tf.summary.image(\"Guidance\", usc_fullres_guidnance_arrays[ing_index][np.newaxis, :, :, :], step=epoch)\n",
    "                tf.summary.image(\"Model results\", preds.numpy()[:, :,:,:3], step=epoch)\n",
    "                \n",
    "                \n",
    "        print(\"Epoch: \", epoch)\n",
    "        train_data_generator.on_epoch_end()\n",
    "        # Train\n",
    "        gen_total_loss, l1_loss_val, ms_ssim_loss_val, vgg_loss_val  = 0, 0, 0, 0\n",
    "        \n",
    "        for n, (input_image, target) in enumerate(train_data_generator):\n",
    "            print('.', end='')\n",
    "            if (n+1) % 100 == 0:\n",
    "                print('\\n')\n",
    "            input_image = np.array(input_image)            \n",
    "            target = np.array(target)\n",
    "            \n",
    "            for pair_id in range(len(input_image)):\n",
    "                #seed = np.random.randint(0,1000)\n",
    "                #input_image[pair_id] = random_alpha_blend(input_image[pair_id], size=224, max_shift=100, seed=seed, proba=proba)\n",
    "                #target[pair_id] = random_alpha_blend(target[pair_id], size=224, max_shift=100, seed=seed, proba=proba)\n",
    "                transformed = transform(image=input_image[pair_id][:,:,:3], image0=input_image[pair_id][:,:,3:6], image1=target[pair_id])\n",
    "            \n",
    "                input_image[pair_id] = np.dstack([transformed['image'], transformed['image0']])\n",
    "                target[pair_id] = transformed['image1']\n",
    "\n",
    "            input_image = tf.cast(input_image, tf.float32)\n",
    "            target = tf.cast(target, tf.float32)\n",
    "            losses = train_step(input_image=tf.transpose(tf.cast(input_image, tf.float32), [0,3,1,2]),\n",
    "                                    target=tf.transpose(target,[0,3,1,2]),\n",
    "                                    generator=generator_full,                                    \n",
    "                                    generator_loss=generator_loss,\n",
    "                                    generator_optimizer=generator_optimizer,\n",
    "                                    training=True)\n",
    "            \n",
    "            gen_total_loss += losses[0]\n",
    "            \n",
    "            l1_loss_val += losses[1][0]\n",
    "            ms_ssim_loss_val += losses[1][1]\n",
    "            vgg_loss_val += losses[1][2]\n",
    "            \n",
    "            \n",
    "            \n",
    "        print()\n",
    "        with summary_writer.as_default():\n",
    "            tf.summary.scalar('gen_total_loss', gen_total_loss/len(train_data_generator), step=epoch)\n",
    "            #tf.summary.scalar('gan_loss_val', gan_loss_val/len(train_data_generator), step=epoch)\n",
    "            tf.summary.scalar('l1_loss_val', l1_loss_val/len(train_data_generator), step=epoch)\n",
    "            tf.summary.scalar('ms_ssim_loss_val', ms_ssim_loss_val/len(train_data_generator), step=epoch)\n",
    "            tf.summary.scalar('vgg_loss_val', vgg_loss_val/len(train_data_generator), step=epoch)\n",
    "            #tf.summary.scalar('vgg_loss_val', vgg_loss_val/len(train_data_generator), step=epoch)\n",
    "            #tf.summary.scalar('disc_loss ', disc_loss /len(train_data_generator), step=epoch)\n",
    "            \n",
    "        # saving (checkpoint) the model every 250 epochs\n",
    "        if (epoch + 1) % 100 == 0:\n",
    "            checkpoint.save(file_prefix = checkpoint_prefix)\n",
    "            \n",
    "        \"\"\"if (epoch + 1) % 1000 == 0:\n",
    "            generator.save_weights(\"avg_weights_gen_{}-1.hdf5\".format(epoch))\n",
    "            #discriminator.save_weights(\"avg_weights_disc_{}-1.hdf5\".format(epoch))\"\"\"\n",
    "            \n",
    "        print ('Time taken for epoch {} is {} sec\\n'.format(epoch + 1,\n",
    "                                                                time.time()-start))\n"
   ]
  },
  {
   "cell_type": "code",
   "execution_count": 66,
   "metadata": {},
   "outputs": [],
   "source": [
    "EPOCHS = 1000"
   ]
  },
  {
   "cell_type": "code",
   "execution_count": 67,
   "metadata": {},
   "outputs": [
    {
     "name": "stdout",
     "output_type": "stream",
     "text": [
      "Epoch:  3243\n",
      "....................................................................................................\n",
      "\n",
      "......................."
     ]
    },
    {
     "ename": "KeyboardInterrupt",
     "evalue": "",
     "output_type": "error",
     "traceback": [
      "\u001b[0;31m---------------------------------------------------------------------------\u001b[0m",
      "\u001b[0;31mKeyboardInterrupt\u001b[0m                         Traceback (most recent call last)",
      "\u001b[0;32m<ipython-input-67-30de6a18a5bd>\u001b[0m in \u001b[0;36m<module>\u001b[0;34m\u001b[0m\n\u001b[1;32m      1\u001b[0m \u001b[0;32mfor\u001b[0m \u001b[0mi\u001b[0m \u001b[0;32min\u001b[0m \u001b[0mrange\u001b[0m\u001b[0;34m(\u001b[0m\u001b[0;36m100\u001b[0m\u001b[0;34m)\u001b[0m\u001b[0;34m:\u001b[0m\u001b[0;34m\u001b[0m\u001b[0;34m\u001b[0m\u001b[0m\n\u001b[0;32m----> 2\u001b[0;31m     \u001b[0mfit\u001b[0m\u001b[0;34m(\u001b[0m\u001b[0mEPOCHS\u001b[0m\u001b[0;34m,\u001b[0m \u001b[0mi\u001b[0m\u001b[0;34m+\u001b[0m\u001b[0;36m1.324\u001b[0m\u001b[0;34m)\u001b[0m\u001b[0;34m\u001b[0m\u001b[0;34m\u001b[0m\u001b[0m\n\u001b[0m",
      "\u001b[0;32m<ipython-input-65-5564e6ae253d>\u001b[0m in \u001b[0;36mfit\u001b[0;34m(epochs, run)\u001b[0m\n\u001b[1;32m     48\u001b[0m             \u001b[0minput_image\u001b[0m \u001b[0;34m=\u001b[0m \u001b[0mtf\u001b[0m\u001b[0;34m.\u001b[0m\u001b[0mcast\u001b[0m\u001b[0;34m(\u001b[0m\u001b[0minput_image\u001b[0m\u001b[0;34m,\u001b[0m \u001b[0mtf\u001b[0m\u001b[0;34m.\u001b[0m\u001b[0mfloat32\u001b[0m\u001b[0;34m)\u001b[0m\u001b[0;34m\u001b[0m\u001b[0;34m\u001b[0m\u001b[0m\n\u001b[1;32m     49\u001b[0m             \u001b[0mtarget\u001b[0m \u001b[0;34m=\u001b[0m \u001b[0mtf\u001b[0m\u001b[0;34m.\u001b[0m\u001b[0mcast\u001b[0m\u001b[0;34m(\u001b[0m\u001b[0mtarget\u001b[0m\u001b[0;34m,\u001b[0m \u001b[0mtf\u001b[0m\u001b[0;34m.\u001b[0m\u001b[0mfloat32\u001b[0m\u001b[0;34m)\u001b[0m\u001b[0;34m\u001b[0m\u001b[0;34m\u001b[0m\u001b[0m\n\u001b[0;32m---> 50\u001b[0;31m             losses = train_step(input_image=tf.transpose(tf.cast(input_image, tf.float32), [0,3,1,2]),\n\u001b[0m\u001b[1;32m     51\u001b[0m                                     \u001b[0mtarget\u001b[0m\u001b[0;34m=\u001b[0m\u001b[0mtf\u001b[0m\u001b[0;34m.\u001b[0m\u001b[0mtranspose\u001b[0m\u001b[0;34m(\u001b[0m\u001b[0mtarget\u001b[0m\u001b[0;34m,\u001b[0m\u001b[0;34m[\u001b[0m\u001b[0;36m0\u001b[0m\u001b[0;34m,\u001b[0m\u001b[0;36m3\u001b[0m\u001b[0;34m,\u001b[0m\u001b[0;36m1\u001b[0m\u001b[0;34m,\u001b[0m\u001b[0;36m2\u001b[0m\u001b[0;34m]\u001b[0m\u001b[0;34m)\u001b[0m\u001b[0;34m,\u001b[0m\u001b[0;34m\u001b[0m\u001b[0;34m\u001b[0m\u001b[0m\n\u001b[1;32m     52\u001b[0m                                     \u001b[0mgenerator\u001b[0m\u001b[0;34m=\u001b[0m\u001b[0mgenerator_full\u001b[0m\u001b[0;34m,\u001b[0m\u001b[0;34m\u001b[0m\u001b[0;34m\u001b[0m\u001b[0m\n",
      "\u001b[0;32m~/anaconda3/envs/tf2x/lib/python3.8/site-packages/tensorflow/python/eager/def_function.py\u001b[0m in \u001b[0;36m__call__\u001b[0;34m(self, *args, **kwds)\u001b[0m\n\u001b[1;32m    578\u001b[0m         \u001b[0mxla_context\u001b[0m\u001b[0;34m.\u001b[0m\u001b[0mExit\u001b[0m\u001b[0;34m(\u001b[0m\u001b[0;34m)\u001b[0m\u001b[0;34m\u001b[0m\u001b[0;34m\u001b[0m\u001b[0m\n\u001b[1;32m    579\u001b[0m     \u001b[0;32melse\u001b[0m\u001b[0;34m:\u001b[0m\u001b[0;34m\u001b[0m\u001b[0;34m\u001b[0m\u001b[0m\n\u001b[0;32m--> 580\u001b[0;31m       \u001b[0mresult\u001b[0m \u001b[0;34m=\u001b[0m \u001b[0mself\u001b[0m\u001b[0;34m.\u001b[0m\u001b[0m_call\u001b[0m\u001b[0;34m(\u001b[0m\u001b[0;34m*\u001b[0m\u001b[0margs\u001b[0m\u001b[0;34m,\u001b[0m \u001b[0;34m**\u001b[0m\u001b[0mkwds\u001b[0m\u001b[0;34m)\u001b[0m\u001b[0;34m\u001b[0m\u001b[0;34m\u001b[0m\u001b[0m\n\u001b[0m\u001b[1;32m    581\u001b[0m \u001b[0;34m\u001b[0m\u001b[0m\n\u001b[1;32m    582\u001b[0m     \u001b[0;32mif\u001b[0m \u001b[0mtracing_count\u001b[0m \u001b[0;34m==\u001b[0m \u001b[0mself\u001b[0m\u001b[0;34m.\u001b[0m\u001b[0m_get_tracing_count\u001b[0m\u001b[0;34m(\u001b[0m\u001b[0;34m)\u001b[0m\u001b[0;34m:\u001b[0m\u001b[0;34m\u001b[0m\u001b[0;34m\u001b[0m\u001b[0m\n",
      "\u001b[0;32m~/anaconda3/envs/tf2x/lib/python3.8/site-packages/tensorflow/python/eager/def_function.py\u001b[0m in \u001b[0;36m_call\u001b[0;34m(self, *args, **kwds)\u001b[0m\n\u001b[1;32m    609\u001b[0m       \u001b[0;31m# In this case we have created variables on the first call, so we run the\u001b[0m\u001b[0;34m\u001b[0m\u001b[0;34m\u001b[0m\u001b[0;34m\u001b[0m\u001b[0m\n\u001b[1;32m    610\u001b[0m       \u001b[0;31m# defunned version which is guaranteed to never create variables.\u001b[0m\u001b[0;34m\u001b[0m\u001b[0;34m\u001b[0m\u001b[0;34m\u001b[0m\u001b[0m\n\u001b[0;32m--> 611\u001b[0;31m       \u001b[0;32mreturn\u001b[0m \u001b[0mself\u001b[0m\u001b[0;34m.\u001b[0m\u001b[0m_stateless_fn\u001b[0m\u001b[0;34m(\u001b[0m\u001b[0;34m*\u001b[0m\u001b[0margs\u001b[0m\u001b[0;34m,\u001b[0m \u001b[0;34m**\u001b[0m\u001b[0mkwds\u001b[0m\u001b[0;34m)\u001b[0m  \u001b[0;31m# pylint: disable=not-callable\u001b[0m\u001b[0;34m\u001b[0m\u001b[0;34m\u001b[0m\u001b[0m\n\u001b[0m\u001b[1;32m    612\u001b[0m     \u001b[0;32melif\u001b[0m \u001b[0mself\u001b[0m\u001b[0;34m.\u001b[0m\u001b[0m_stateful_fn\u001b[0m \u001b[0;32mis\u001b[0m \u001b[0;32mnot\u001b[0m \u001b[0;32mNone\u001b[0m\u001b[0;34m:\u001b[0m\u001b[0;34m\u001b[0m\u001b[0;34m\u001b[0m\u001b[0m\n\u001b[1;32m    613\u001b[0m       \u001b[0;31m# Release the lock early so that multiple threads can perform the call\u001b[0m\u001b[0;34m\u001b[0m\u001b[0;34m\u001b[0m\u001b[0;34m\u001b[0m\u001b[0m\n",
      "\u001b[0;32m~/anaconda3/envs/tf2x/lib/python3.8/site-packages/tensorflow/python/eager/function.py\u001b[0m in \u001b[0;36m__call__\u001b[0;34m(self, *args, **kwargs)\u001b[0m\n\u001b[1;32m   2418\u001b[0m     \u001b[0;32mwith\u001b[0m \u001b[0mself\u001b[0m\u001b[0;34m.\u001b[0m\u001b[0m_lock\u001b[0m\u001b[0;34m:\u001b[0m\u001b[0;34m\u001b[0m\u001b[0;34m\u001b[0m\u001b[0m\n\u001b[1;32m   2419\u001b[0m       \u001b[0mgraph_function\u001b[0m\u001b[0;34m,\u001b[0m \u001b[0margs\u001b[0m\u001b[0;34m,\u001b[0m \u001b[0mkwargs\u001b[0m \u001b[0;34m=\u001b[0m \u001b[0mself\u001b[0m\u001b[0;34m.\u001b[0m\u001b[0m_maybe_define_function\u001b[0m\u001b[0;34m(\u001b[0m\u001b[0margs\u001b[0m\u001b[0;34m,\u001b[0m \u001b[0mkwargs\u001b[0m\u001b[0;34m)\u001b[0m\u001b[0;34m\u001b[0m\u001b[0;34m\u001b[0m\u001b[0m\n\u001b[0;32m-> 2420\u001b[0;31m     \u001b[0;32mreturn\u001b[0m \u001b[0mgraph_function\u001b[0m\u001b[0;34m.\u001b[0m\u001b[0m_filtered_call\u001b[0m\u001b[0;34m(\u001b[0m\u001b[0margs\u001b[0m\u001b[0;34m,\u001b[0m \u001b[0mkwargs\u001b[0m\u001b[0;34m)\u001b[0m  \u001b[0;31m# pylint: disable=protected-access\u001b[0m\u001b[0;34m\u001b[0m\u001b[0;34m\u001b[0m\u001b[0m\n\u001b[0m\u001b[1;32m   2421\u001b[0m \u001b[0;34m\u001b[0m\u001b[0m\n\u001b[1;32m   2422\u001b[0m   \u001b[0;34m@\u001b[0m\u001b[0mproperty\u001b[0m\u001b[0;34m\u001b[0m\u001b[0;34m\u001b[0m\u001b[0m\n",
      "\u001b[0;32m~/anaconda3/envs/tf2x/lib/python3.8/site-packages/tensorflow/python/eager/function.py\u001b[0m in \u001b[0;36m_filtered_call\u001b[0;34m(self, args, kwargs)\u001b[0m\n\u001b[1;32m   1659\u001b[0m       \u001b[0;31m`\u001b[0m\u001b[0margs\u001b[0m\u001b[0;31m`\u001b[0m \u001b[0;32mand\u001b[0m\u001b[0;31m \u001b[0m\u001b[0;31m`\u001b[0m\u001b[0mkwargs\u001b[0m\u001b[0;31m`\u001b[0m\u001b[0;34m.\u001b[0m\u001b[0;34m\u001b[0m\u001b[0;34m\u001b[0m\u001b[0m\n\u001b[1;32m   1660\u001b[0m     \"\"\"\n\u001b[0;32m-> 1661\u001b[0;31m     return self._call_flat(\n\u001b[0m\u001b[1;32m   1662\u001b[0m         (t for t in nest.flatten((args, kwargs), expand_composites=True)\n\u001b[1;32m   1663\u001b[0m          if isinstance(t, (ops.Tensor,\n",
      "\u001b[0;32m~/anaconda3/envs/tf2x/lib/python3.8/site-packages/tensorflow/python/eager/function.py\u001b[0m in \u001b[0;36m_call_flat\u001b[0;34m(self, args, captured_inputs, cancellation_manager)\u001b[0m\n\u001b[1;32m   1743\u001b[0m         and executing_eagerly):\n\u001b[1;32m   1744\u001b[0m       \u001b[0;31m# No tape is watching; skip to running the function.\u001b[0m\u001b[0;34m\u001b[0m\u001b[0;34m\u001b[0m\u001b[0;34m\u001b[0m\u001b[0m\n\u001b[0;32m-> 1745\u001b[0;31m       return self._build_call_outputs(self._inference_function.call(\n\u001b[0m\u001b[1;32m   1746\u001b[0m           ctx, args, cancellation_manager=cancellation_manager))\n\u001b[1;32m   1747\u001b[0m     forward_backward = self._select_forward_and_backward_functions(\n",
      "\u001b[0;32m~/anaconda3/envs/tf2x/lib/python3.8/site-packages/tensorflow/python/eager/function.py\u001b[0m in \u001b[0;36mcall\u001b[0;34m(self, ctx, args, cancellation_manager)\u001b[0m\n\u001b[1;32m    591\u001b[0m       \u001b[0;32mwith\u001b[0m \u001b[0m_InterpolateFunctionError\u001b[0m\u001b[0;34m(\u001b[0m\u001b[0mself\u001b[0m\u001b[0;34m)\u001b[0m\u001b[0;34m:\u001b[0m\u001b[0;34m\u001b[0m\u001b[0;34m\u001b[0m\u001b[0m\n\u001b[1;32m    592\u001b[0m         \u001b[0;32mif\u001b[0m \u001b[0mcancellation_manager\u001b[0m \u001b[0;32mis\u001b[0m \u001b[0;32mNone\u001b[0m\u001b[0;34m:\u001b[0m\u001b[0;34m\u001b[0m\u001b[0;34m\u001b[0m\u001b[0m\n\u001b[0;32m--> 593\u001b[0;31m           outputs = execute.execute(\n\u001b[0m\u001b[1;32m    594\u001b[0m               \u001b[0mstr\u001b[0m\u001b[0;34m(\u001b[0m\u001b[0mself\u001b[0m\u001b[0;34m.\u001b[0m\u001b[0msignature\u001b[0m\u001b[0;34m.\u001b[0m\u001b[0mname\u001b[0m\u001b[0;34m)\u001b[0m\u001b[0;34m,\u001b[0m\u001b[0;34m\u001b[0m\u001b[0;34m\u001b[0m\u001b[0m\n\u001b[1;32m    595\u001b[0m               \u001b[0mnum_outputs\u001b[0m\u001b[0;34m=\u001b[0m\u001b[0mself\u001b[0m\u001b[0;34m.\u001b[0m\u001b[0m_num_outputs\u001b[0m\u001b[0;34m,\u001b[0m\u001b[0;34m\u001b[0m\u001b[0;34m\u001b[0m\u001b[0m\n",
      "\u001b[0;32m~/anaconda3/envs/tf2x/lib/python3.8/site-packages/tensorflow/python/eager/execute.py\u001b[0m in \u001b[0;36mquick_execute\u001b[0;34m(op_name, num_outputs, inputs, attrs, ctx, name)\u001b[0m\n\u001b[1;32m     57\u001b[0m   \u001b[0;32mtry\u001b[0m\u001b[0;34m:\u001b[0m\u001b[0;34m\u001b[0m\u001b[0;34m\u001b[0m\u001b[0m\n\u001b[1;32m     58\u001b[0m     \u001b[0mctx\u001b[0m\u001b[0;34m.\u001b[0m\u001b[0mensure_initialized\u001b[0m\u001b[0;34m(\u001b[0m\u001b[0;34m)\u001b[0m\u001b[0;34m\u001b[0m\u001b[0;34m\u001b[0m\u001b[0m\n\u001b[0;32m---> 59\u001b[0;31m     tensors = pywrap_tfe.TFE_Py_Execute(ctx._handle, device_name, op_name,\n\u001b[0m\u001b[1;32m     60\u001b[0m                                         inputs, attrs, num_outputs)\n\u001b[1;32m     61\u001b[0m   \u001b[0;32mexcept\u001b[0m \u001b[0mcore\u001b[0m\u001b[0;34m.\u001b[0m\u001b[0m_NotOkStatusException\u001b[0m \u001b[0;32mas\u001b[0m \u001b[0me\u001b[0m\u001b[0;34m:\u001b[0m\u001b[0;34m\u001b[0m\u001b[0;34m\u001b[0m\u001b[0m\n",
      "\u001b[0;31mKeyboardInterrupt\u001b[0m: "
     ]
    }
   ],
   "source": [
    "for i in range(100):\n",
    "    fit(EPOCHS, i+1.324)"
   ]
  },
  {
   "cell_type": "markdown",
   "metadata": {},
   "source": [
    "### Restore from checkpoint"
   ]
  },
  {
   "cell_type": "code",
   "execution_count": 69,
   "metadata": {},
   "outputs": [
    {
     "data": {
      "text/plain": [
       "<tensorflow.python.training.tracking.util.CheckpointLoadStatus at 0x7f87bc185290>"
      ]
     },
     "execution_count": 69,
     "metadata": {},
     "output_type": "execute_result"
    }
   ],
   "source": [
    "checkpoint.restore(\"/shared/p00536919/training_checkpoints/flare_removal/20200114-114537/ckpt-10\")"
   ]
  },
  {
   "cell_type": "markdown",
   "metadata": {},
   "source": [
    "### Save Models"
   ]
  },
  {
   "cell_type": "code",
   "execution_count": 51,
   "metadata": {},
   "outputs": [],
   "source": [
    "generator.save_weights(r'./weights/trained_vanilla_pix2pix_hist_superlight_no_rescale_FINAL_gen_no_gamma_11_5_2020.hdf5')\n",
    "discriminator.save_weights(r'./weights/trained_vanilla_pix2pix_hist_superlight_no_rescale_FINAL_disc_no_gamma_18_5_2020.hdf5')"
   ]
  },
  {
   "cell_type": "code",
   "execution_count": 33,
   "metadata": {
    "pycharm": {
     "name": "#%%\n"
    }
   },
   "outputs": [],
   "source": [
    "generator.load_weights(r'/home/p00536919/Flare_removal/Downscale_ref/log_weights1.hdf5')\n",
    "#discriminator.load_weights(r'F:\\models\\new_approach_disc_27_2_2020.hdf5')"
   ]
  },
  {
   "cell_type": "code",
   "execution_count": 68,
   "metadata": {},
   "outputs": [],
   "source": [
    "plt.imsave(r\"usc1.png\", usc_arrays_downscaled[495][:296, :408, :])"
   ]
  },
  {
   "cell_type": "code",
   "execution_count": 69,
   "metadata": {},
   "outputs": [],
   "source": [
    "plt.imsave(r\"gt1.png\", gt_arrays_downscaled[495][:296, :408, :])"
   ]
  },
  {
   "cell_type": "code",
   "execution_count": 72,
   "metadata": {},
   "outputs": [],
   "source": [
    "test_image = usc_arrays_downscaled[495][np.newaxis, :296, :408, :]\n",
    "test_image = tf.cast(test_image, tf.float32)\n",
    "#test_image = tf.image.resize(test_image, [256,256])\n",
    "preds = generator(tf.transpose(test_image,[0,3,1,2]), training=True)  \n",
    "preds = tf.transpose(preds, [0,2,3,1])\n",
    "plt.imsave(r\"preds1.png\", np.clip(preds.numpy(),0,1)[0])"
   ]
  },
  {
   "cell_type": "code",
   "execution_count": null,
   "metadata": {},
   "outputs": [],
   "source": []
  }
 ],
 "metadata": {
  "kernelspec": {
   "display_name": "Python 3",
   "language": "python",
   "name": "python3"
  },
  "language_info": {
   "codemirror_mode": {
    "name": "ipython",
    "version": 3
   },
   "file_extension": ".py",
   "mimetype": "text/x-python",
   "name": "python",
   "nbconvert_exporter": "python",
   "pygments_lexer": "ipython3",
   "version": "3.8.2"
  },
  "pycharm": {
   "stem_cell": {
    "cell_type": "raw",
    "metadata": {
     "collapsed": false
    },
    "source": []
   }
  }
 },
 "nbformat": 4,
 "nbformat_minor": 4
}
