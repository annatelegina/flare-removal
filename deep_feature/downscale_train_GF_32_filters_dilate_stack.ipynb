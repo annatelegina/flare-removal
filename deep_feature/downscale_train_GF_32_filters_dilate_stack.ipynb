{
 "cells": [
  {
   "cell_type": "code",
   "execution_count": 1,
   "metadata": {
    "pycharm": {
     "is_executing": false
    }
   },
   "outputs": [],
   "source": [
    "import tensorflow as tf\n",
    "from tensorflow.keras import layers\n",
    "from tensorflow import keras \n",
    "\n",
    "import os\n",
    "import time\n",
    "from datetime import datetime\n",
    "\n",
    "from matplotlib import pyplot as plt\n",
    "from IPython import display\n",
    "import numpy as np\n",
    "from tqdm import tqdm\n",
    "import cv2\n",
    "import albumentations as A"
   ]
  },
  {
   "cell_type": "code",
   "execution_count": 2,
   "metadata": {},
   "outputs": [
    {
     "data": {
      "text/plain": [
       "'2.2.0'"
      ]
     },
     "execution_count": 2,
     "metadata": {},
     "output_type": "execute_result"
    }
   ],
   "source": [
    "tf.__version__"
   ]
  },
  {
   "cell_type": "markdown",
   "metadata": {},
   "source": [
    "## Create training dataset"
   ]
  },
  {
   "cell_type": "code",
   "execution_count": 69,
   "metadata": {},
   "outputs": [],
   "source": [
    "USC_FOLDERS = [r\"/shared/data1/Video_data_small/20201111out/aligned_B/B\",\n",
    "               r\"/shared/data1/Video_data_small/20201111nig/aligned_B/B\",\n",
    "               r\"/shared/data1/Video_data_small/20201110nig/aligned_B/B\",\n",
    "               r\"/shared/data1/Video_data_small/20201111day/aligned_B/B\",\n",
    "               r\"/shared/data1/Video_data_small/20201110day/aligned_B/B\",\n",
    "               r\"/shared/data1/Video_data_small/20200824_indoor_video_flare/aligned/B\",\n",
    "               r\"/shared/data1/Video_data_small/20200728_video/aligned/B\",\n",
    "               r\"/shared/data1/Video_data_small/20200810_video_flare/aligned/B\",\n",
    "               r\"/shared/data1/Video_data_small/20200824_outdoor_video_flare/aligned/B\"]\n",
    "GT_FOLDERS =  [r\"/shared/data1/Video_data_small/20201111out/aligned_B/gt\",\n",
    "               r\"/shared/data1/Video_data_small/20201111nig/aligned_B/gt\",\n",
    "               r\"/shared/data1/Video_data_small/20201110nig/aligned_B/gt\",\n",
    "               r\"/shared/data1/Video_data_small/20201111day/aligned_B/gt\",\n",
    "               r\"/shared/data1/Video_data_small/20201110day/aligned_B/gt\",\n",
    "               r\"/shared/data1/Video_data_small/20200824_indoor_video_flare/aligned/gt\",\n",
    "               r\"/shared/data1/Video_data_small/20200728_video/aligned/gt\",\n",
    "               r\"/shared/data1/Video_data_small/20200810_video_flare/aligned/gt\",\n",
    "               r\"/shared/data1/Video_data_small/20200824_outdoor_video_flare/aligned/gt\"]"
   ]
  },
  {
   "cell_type": "code",
   "execution_count": 3,
   "metadata": {},
   "outputs": [],
   "source": [
    "from train_utils.utils  import dataset, image_io, image_transform\n",
    "from train_utils.train  import losses, train_step"
   ]
  },
  {
   "cell_type": "code",
   "execution_count": 71,
   "metadata": {},
   "outputs": [],
   "source": [
    "png_image_reader = image_io.ImageReaderPNG(transform_list=None)"
   ]
  },
  {
   "cell_type": "code",
   "execution_count": 72,
   "metadata": {},
   "outputs": [
    {
     "name": "stderr",
     "output_type": "stream",
     "text": [
      "100%|██████████| 9/9 [00:00<00:00, 11.71it/s]\n",
      "100%|██████████| 15/15 [00:00<00:00, 17.39it/s]\n",
      "100%|██████████| 21/21 [00:01<00:00, 16.25it/s]\n",
      "100%|██████████| 38/38 [00:02<00:00, 16.38it/s]\n",
      "100%|██████████| 70/70 [00:04<00:00, 15.38it/s]\n",
      "100%|██████████| 38/38 [00:02<00:00, 15.58it/s]\n",
      "100%|██████████| 46/46 [00:02<00:00, 15.75it/s]\n",
      "100%|██████████| 46/46 [00:02<00:00, 15.87it/s]\n",
      "100%|██████████| 20/20 [00:01<00:00, 15.72it/s]\n"
     ]
    }
   ],
   "source": [
    "usc_arrays = dataset.get_images_array(folders_list=USC_FOLDERS, image_reader=png_image_reader, images_extension='.png')"
   ]
  },
  {
   "cell_type": "code",
   "execution_count": 73,
   "metadata": {},
   "outputs": [
    {
     "data": {
      "text/plain": [
       "303"
      ]
     },
     "execution_count": 73,
     "metadata": {},
     "output_type": "execute_result"
    }
   ],
   "source": [
    "len(usc_arrays)"
   ]
  },
  {
   "cell_type": "code",
   "execution_count": 74,
   "metadata": {},
   "outputs": [
    {
     "name": "stderr",
     "output_type": "stream",
     "text": [
      "100%|██████████| 9/9 [00:00<00:00, 14.67it/s]\n",
      "100%|██████████| 15/15 [00:00<00:00, 15.26it/s]\n",
      "100%|██████████| 21/21 [00:01<00:00, 14.91it/s]\n",
      "100%|██████████| 38/38 [00:02<00:00, 15.48it/s]\n",
      "100%|██████████| 70/70 [00:04<00:00, 14.91it/s]\n",
      "100%|██████████| 38/38 [00:02<00:00, 15.33it/s]\n",
      "100%|██████████| 46/46 [00:03<00:00, 15.29it/s]\n",
      "100%|██████████| 46/46 [00:03<00:00, 14.81it/s]\n",
      "100%|██████████| 20/20 [00:01<00:00, 14.85it/s]\n"
     ]
    }
   ],
   "source": [
    "gt_arrays = dataset.get_images_array(folders_list=GT_FOLDERS, image_reader=png_image_reader, images_extension='.png')"
   ]
  },
  {
   "cell_type": "code",
   "execution_count": 75,
   "metadata": {},
   "outputs": [
    {
     "data": {
      "text/plain": [
       "303"
      ]
     },
     "execution_count": 75,
     "metadata": {},
     "output_type": "execute_result"
    }
   ],
   "source": [
    "len(gt_arrays)"
   ]
  },
  {
   "cell_type": "code",
   "execution_count": 11,
   "metadata": {},
   "outputs": [],
   "source": [
    "from skimage.transform import rescale, resize"
   ]
  },
  {
   "cell_type": "code",
   "execution_count": 76,
   "metadata": {},
   "outputs": [],
   "source": [
    "def img_resize(image):\n",
    "    new_img = cv2.resize(image, (1920//4, 1080//4))\n",
    "    #print('resized')\n",
    "    return new_img"
   ]
  },
  {
   "cell_type": "code",
   "execution_count": 77,
   "metadata": {},
   "outputs": [
    {
     "name": "stderr",
     "output_type": "stream",
     "text": [
      "100%|██████████| 303/303 [00:00<00:00, 1320.17it/s]\n"
     ]
    }
   ],
   "source": [
    "usc_arrays_downscaled = [img_resize(image) for image in tqdm(usc_arrays)]"
   ]
  },
  {
   "cell_type": "code",
   "execution_count": 78,
   "metadata": {},
   "outputs": [
    {
     "name": "stderr",
     "output_type": "stream",
     "text": [
      "100%|██████████| 303/303 [00:00<00:00, 1974.31it/s]\n"
     ]
    }
   ],
   "source": [
    "gt_arrays_downscaled = [img_resize(image) for image in tqdm(gt_arrays)]"
   ]
  },
  {
   "cell_type": "code",
   "execution_count": 79,
   "metadata": {},
   "outputs": [],
   "source": [
    "np.savez(\"usc_arrays_downscaled_small\", usc_arrays_downscaled)\n",
    "np.savez(\"gt_arrays_downscaled_small\", gt_arrays_downscaled)"
   ]
  },
  {
   "cell_type": "markdown",
   "metadata": {},
   "source": [
    "## DATASET LOADING"
   ]
  },
  {
   "cell_type": "code",
   "execution_count": 4,
   "metadata": {},
   "outputs": [],
   "source": [
    "usc_arrays_downscaled = np.load(\"/home/p00536919/Flare_removal/Downscale_ref/usc_arrays_flare_only.npz\")['arr_0']\n",
    "gt_arrays_downscaled = np.load(\"/home/p00536919/Flare_removal/Downscale_ref/gt_arrays_flare_only.npz\")['arr_0']"
   ]
  },
  {
   "cell_type": "markdown",
   "metadata": {},
   "source": [
    "## GPU selection"
   ]
  },
  {
   "cell_type": "code",
   "execution_count": 5,
   "metadata": {},
   "outputs": [],
   "source": [
    "physical_devices = tf.config.experimental.list_physical_devices('GPU')\n",
    "tf.config.experimental.set_memory_growth(physical_devices[1], True) \n",
    "tf.config.experimental.set_visible_devices(physical_devices[1], 'GPU')"
   ]
  },
  {
   "cell_type": "code",
   "execution_count": 6,
   "metadata": {},
   "outputs": [],
   "source": [
    "tf.keras.backend.clear_session()"
   ]
  },
  {
   "cell_type": "code",
   "execution_count": 7,
   "metadata": {},
   "outputs": [
    {
     "name": "stderr",
     "output_type": "stream",
     "text": [
      "100%|██████████| 303/303 [00:05<00:00, 60.21it/s]\n"
     ]
    }
   ],
   "source": [
    "from guided_filter_tf.guided_filter import guided_filter\n",
    "\n",
    "for num, (usc_image, gt_image) in tqdm(list(enumerate(zip(usc_arrays_downscaled, gt_arrays_downscaled)))):\n",
    "    \n",
    "    gt_image = guided_filter(x=tf.cast(gt_image[np.newaxis, :, :, :], tf.float32),\n",
    "                             y=tf.cast(usc_image[np.newaxis, :, :, :], tf.float32), r=16, nhwc=True)\n",
    "    gt_image = gt_image.numpy()[0]\n",
    "    gt_arrays_downscaled[num] = gt_image"
   ]
  },
  {
   "cell_type": "code",
   "execution_count": 8,
   "metadata": {},
   "outputs": [],
   "source": [
    "training_dataset = (usc_arrays_downscaled[:300], gt_arrays_downscaled[:300])"
   ]
  },
  {
   "cell_type": "code",
   "execution_count": 9,
   "metadata": {},
   "outputs": [],
   "source": [
    "train_data_generator = dataset.DataGenerator(training_dataset, patch_size=224, batch_size=1, image_size=(1080//4, 1920//4), shuffle=True, pad=2)"
   ]
  },
  {
   "cell_type": "markdown",
   "metadata": {},
   "source": [
    "### Clear logs"
   ]
  },
  {
   "cell_type": "code",
   "execution_count": 20,
   "metadata": {},
   "outputs": [],
   "source": [
    "#!RMDIR /Q /S G:\\logs\\flare_removal\n",
    "#!rm -rf /shared/p00536919/logs/flare_removal"
   ]
  },
  {
   "cell_type": "markdown",
   "metadata": {},
   "source": [
    "## Build models"
   ]
  },
  {
   "cell_type": "markdown",
   "metadata": {
    "jupyter": {
     "outputs_hidden": false
    },
    "pycharm": {
     "is_executing": false,
     "name": "#%%\n"
    }
   },
   "source": [
    "### Generator"
   ]
  },
  {
   "cell_type": "code",
   "execution_count": 10,
   "metadata": {},
   "outputs": [],
   "source": [
    "def conv_block(growth_rate, filters, kernel_size, strides, x):\n",
    "    x = tf.keras.layers.Conv2D(growth_rate * filters, kernel_size, padding='same', strides=strides, data_format='channels_first')(x)\n",
    "    x = tf.keras.layers.LeakyReLU()(x)\n",
    "    return x\n",
    "\n",
    "\n",
    "def dilated_conv_block(growth_rate, filters, kernel_size, dilation_rate, x):\n",
    "    x = tf.keras.layers.Conv2D(growth_rate * filters, kernel_size, padding='same', dilation_rate=dilation_rate, data_format='channels_first')(x)\n",
    "    x = tf.keras.layers.LeakyReLU()(x)\n",
    "    return x\n",
    "\n",
    "\n",
    "def conv_skip_block(growth_rate, filters, kernel_size, x):\n",
    "    x = tf.keras.layers.Conv2DTranspose(growth_rate * filters, kernel_size, padding='same', data_format='channels_first')(x)\n",
    "    x = tf.keras.layers.LeakyReLU()(x)\n",
    "    return x\n",
    "\n",
    "\n",
    "def deconv_block(growth_rate, filters, kernel_size, strides, x):\n",
    "    x = tf.keras.layers.Conv2DTranspose(growth_rate * filters, kernel_size, padding='same', strides=strides, data_format='channels_first')(x)\n",
    "    x = tf.keras.layers.AveragePooling2D((2, 2), 1, padding='same', data_format='channels_first')(x)\n",
    "    x = tf.keras.layers.LeakyReLU()(x)\n",
    "    return x"
   ]
  },
  {
   "cell_type": "code",
   "execution_count": 11,
   "metadata": {},
   "outputs": [],
   "source": [
    "def Generator(height=None, width=None, input_channels=3, filters=32):\n",
    "\n",
    "    inputs = tf.keras.Input(shape=[input_channels, height, width])\n",
    "\n",
    "    x = dilated_conv_block(growth_rate=2, filters=filters, kernel_size=(9, 9), dilation_rate=16, x=inputs)\n",
    "    x = dilated_conv_block(growth_rate=4, filters=filters, kernel_size=(5, 5), dilation_rate=8, x=x)\n",
    "    x = dilated_conv_block(growth_rate=4, filters=filters, kernel_size=(3, 3), dilation_rate=4, x=x)\n",
    "    res1 = x\n",
    "\n",
    "    x = dilated_conv_block(growth_rate=4, filters=filters, kernel_size=(3, 3), dilation_rate=4, x=x)\n",
    "    x = dilated_conv_block(growth_rate=4, filters=filters, kernel_size=(3, 3), dilation_rate=4, x=x)\n",
    "    x = tf.keras.layers.AveragePooling2D((2, 2), 2, padding='same', data_format='channels_first')(x)\n",
    "    x = dilated_conv_block(growth_rate=4, filters=filters, kernel_size=(3, 3), dilation_rate=4, x=x)\n",
    "    x = dilated_conv_block(growth_rate=4, filters=filters, kernel_size=(3, 3), dilation_rate=4, x=x)\n",
    "    res2 = x\n",
    "\n",
    "    x = dilated_conv_block(growth_rate=4, filters=filters, kernel_size=(3, 3), dilation_rate=4, x=x)\n",
    "    x = tf.keras.layers.AveragePooling2D((2, 2), 2, padding='same', data_format='channels_first')(x)\n",
    "    x = dilated_conv_block(growth_rate=8, filters=filters, kernel_size=(3, 3), dilation_rate=4, x=x)\n",
    "    x = dilated_conv_block(growth_rate=8, filters=filters, kernel_size=(3, 3), dilation_rate=4, x=x)\n",
    "    x = dilated_conv_block(growth_rate=8, filters=filters, kernel_size=(3, 3), dilation_rate=4, x=x)\n",
    "    x = dilated_conv_block(growth_rate=8, filters=filters, kernel_size=(3, 3), dilation_rate=4, x=x)\n",
    "\n",
    "    x = deconv_block(growth_rate=4, filters=filters, kernel_size=(4, 4), strides=2, x=x)\n",
    "\n",
    "    x = tf.keras.layers.Concatenate(axis=1)([x, res2])\n",
    "    x = conv_skip_block(growth_rate=4, filters=filters, kernel_size=(1, 1), x=x)\n",
    "\n",
    "    x = dilated_conv_block(growth_rate=8, filters=filters, kernel_size=(3, 3), dilation_rate=2, x=x)\n",
    "\n",
    "    x = deconv_block(growth_rate=2, filters=filters, kernel_size=(4, 4), strides=2, x=x)\n",
    "\n",
    "    x = tf.keras.layers.Concatenate(axis=1)([x, res1])\n",
    "    x = conv_skip_block(growth_rate=2, filters=filters, kernel_size=(1, 1), x=x)\n",
    "\n",
    "    x = dilated_conv_block(growth_rate=1, filters=filters, kernel_size=(3, 3), dilation_rate=1, x=x)\n",
    "    x = tf.keras.layers.Conv2D(3, (3, 3), padding='same', data_format='channels_first')(x)\n",
    "    x = tf.keras.layers.Activation('tanh')(x)\n",
    "    x = tf.keras.layers.Subtract()([inputs, x])\n",
    "    x = tf.keras.layers.Conv2D(3, (3, 3), activation='sigmoid', padding='same', data_format='channels_first')(x)\n",
    "    \n",
    "    _model = tf.keras.Model(inputs=inputs, outputs=x, name='derain_net')\n",
    "    return _model  \n"
   ]
  },
  {
   "cell_type": "code",
   "execution_count": 12,
   "metadata": {},
   "outputs": [],
   "source": [
    "generator = Generator()"
   ]
  },
  {
   "cell_type": "code",
   "execution_count": 13,
   "metadata": {},
   "outputs": [
    {
     "name": "stdout",
     "output_type": "stream",
     "text": [
      "Model: \"derain_net\"\n",
      "__________________________________________________________________________________________________\n",
      "Layer (type)                    Output Shape         Param #     Connected to                     \n",
      "==================================================================================================\n",
      "input_1 (InputLayer)            [(None, 3, None, Non 0                                            \n",
      "__________________________________________________________________________________________________\n",
      "conv2d (Conv2D)                 (None, 64, None, Non 15616       input_1[0][0]                    \n",
      "__________________________________________________________________________________________________\n",
      "leaky_re_lu (LeakyReLU)         (None, 64, None, Non 0           conv2d[0][0]                     \n",
      "__________________________________________________________________________________________________\n",
      "conv2d_1 (Conv2D)               (None, 128, None, No 204928      leaky_re_lu[0][0]                \n",
      "__________________________________________________________________________________________________\n",
      "leaky_re_lu_1 (LeakyReLU)       (None, 128, None, No 0           conv2d_1[0][0]                   \n",
      "__________________________________________________________________________________________________\n",
      "conv2d_2 (Conv2D)               (None, 128, None, No 147584      leaky_re_lu_1[0][0]              \n",
      "__________________________________________________________________________________________________\n",
      "leaky_re_lu_2 (LeakyReLU)       (None, 128, None, No 0           conv2d_2[0][0]                   \n",
      "__________________________________________________________________________________________________\n",
      "conv2d_3 (Conv2D)               (None, 128, None, No 147584      leaky_re_lu_2[0][0]              \n",
      "__________________________________________________________________________________________________\n",
      "leaky_re_lu_3 (LeakyReLU)       (None, 128, None, No 0           conv2d_3[0][0]                   \n",
      "__________________________________________________________________________________________________\n",
      "conv2d_4 (Conv2D)               (None, 128, None, No 147584      leaky_re_lu_3[0][0]              \n",
      "__________________________________________________________________________________________________\n",
      "leaky_re_lu_4 (LeakyReLU)       (None, 128, None, No 0           conv2d_4[0][0]                   \n",
      "__________________________________________________________________________________________________\n",
      "average_pooling2d (AveragePooli (None, 128, None, No 0           leaky_re_lu_4[0][0]              \n",
      "__________________________________________________________________________________________________\n",
      "conv2d_5 (Conv2D)               (None, 128, None, No 147584      average_pooling2d[0][0]          \n",
      "__________________________________________________________________________________________________\n",
      "leaky_re_lu_5 (LeakyReLU)       (None, 128, None, No 0           conv2d_5[0][0]                   \n",
      "__________________________________________________________________________________________________\n",
      "conv2d_6 (Conv2D)               (None, 128, None, No 147584      leaky_re_lu_5[0][0]              \n",
      "__________________________________________________________________________________________________\n",
      "leaky_re_lu_6 (LeakyReLU)       (None, 128, None, No 0           conv2d_6[0][0]                   \n",
      "__________________________________________________________________________________________________\n",
      "conv2d_7 (Conv2D)               (None, 128, None, No 147584      leaky_re_lu_6[0][0]              \n",
      "__________________________________________________________________________________________________\n",
      "leaky_re_lu_7 (LeakyReLU)       (None, 128, None, No 0           conv2d_7[0][0]                   \n",
      "__________________________________________________________________________________________________\n",
      "average_pooling2d_1 (AveragePoo (None, 128, None, No 0           leaky_re_lu_7[0][0]              \n",
      "__________________________________________________________________________________________________\n",
      "conv2d_8 (Conv2D)               (None, 256, None, No 295168      average_pooling2d_1[0][0]        \n",
      "__________________________________________________________________________________________________\n",
      "leaky_re_lu_8 (LeakyReLU)       (None, 256, None, No 0           conv2d_8[0][0]                   \n",
      "__________________________________________________________________________________________________\n",
      "conv2d_9 (Conv2D)               (None, 256, None, No 590080      leaky_re_lu_8[0][0]              \n",
      "__________________________________________________________________________________________________\n",
      "leaky_re_lu_9 (LeakyReLU)       (None, 256, None, No 0           conv2d_9[0][0]                   \n",
      "__________________________________________________________________________________________________\n",
      "conv2d_10 (Conv2D)              (None, 256, None, No 590080      leaky_re_lu_9[0][0]              \n",
      "__________________________________________________________________________________________________\n",
      "leaky_re_lu_10 (LeakyReLU)      (None, 256, None, No 0           conv2d_10[0][0]                  \n",
      "__________________________________________________________________________________________________\n",
      "conv2d_11 (Conv2D)              (None, 256, None, No 590080      leaky_re_lu_10[0][0]             \n",
      "__________________________________________________________________________________________________\n",
      "leaky_re_lu_11 (LeakyReLU)      (None, 256, None, No 0           conv2d_11[0][0]                  \n",
      "__________________________________________________________________________________________________\n",
      "conv2d_transpose (Conv2DTranspo (None, 128, None, No 524416      leaky_re_lu_11[0][0]             \n",
      "__________________________________________________________________________________________________\n",
      "average_pooling2d_2 (AveragePoo (None, 128, None, No 0           conv2d_transpose[0][0]           \n",
      "__________________________________________________________________________________________________\n",
      "leaky_re_lu_12 (LeakyReLU)      (None, 128, None, No 0           average_pooling2d_2[0][0]        \n",
      "__________________________________________________________________________________________________\n",
      "concatenate (Concatenate)       (None, 256, None, No 0           leaky_re_lu_12[0][0]             \n",
      "                                                                 leaky_re_lu_6[0][0]              \n",
      "__________________________________________________________________________________________________\n",
      "conv2d_transpose_1 (Conv2DTrans (None, 128, None, No 32896       concatenate[0][0]                \n",
      "__________________________________________________________________________________________________\n",
      "leaky_re_lu_13 (LeakyReLU)      (None, 128, None, No 0           conv2d_transpose_1[0][0]         \n",
      "__________________________________________________________________________________________________\n",
      "conv2d_12 (Conv2D)              (None, 256, None, No 295168      leaky_re_lu_13[0][0]             \n",
      "__________________________________________________________________________________________________\n",
      "leaky_re_lu_14 (LeakyReLU)      (None, 256, None, No 0           conv2d_12[0][0]                  \n",
      "__________________________________________________________________________________________________\n",
      "conv2d_transpose_2 (Conv2DTrans (None, 64, None, Non 262208      leaky_re_lu_14[0][0]             \n",
      "__________________________________________________________________________________________________\n",
      "average_pooling2d_3 (AveragePoo (None, 64, None, Non 0           conv2d_transpose_2[0][0]         \n",
      "__________________________________________________________________________________________________\n",
      "leaky_re_lu_15 (LeakyReLU)      (None, 64, None, Non 0           average_pooling2d_3[0][0]        \n",
      "__________________________________________________________________________________________________\n",
      "concatenate_1 (Concatenate)     (None, 192, None, No 0           leaky_re_lu_15[0][0]             \n",
      "                                                                 leaky_re_lu_2[0][0]              \n",
      "__________________________________________________________________________________________________\n",
      "conv2d_transpose_3 (Conv2DTrans (None, 64, None, Non 12352       concatenate_1[0][0]              \n",
      "__________________________________________________________________________________________________\n",
      "leaky_re_lu_16 (LeakyReLU)      (None, 64, None, Non 0           conv2d_transpose_3[0][0]         \n",
      "__________________________________________________________________________________________________\n",
      "conv2d_13 (Conv2D)              (None, 32, None, Non 18464       leaky_re_lu_16[0][0]             \n",
      "__________________________________________________________________________________________________\n",
      "leaky_re_lu_17 (LeakyReLU)      (None, 32, None, Non 0           conv2d_13[0][0]                  \n",
      "__________________________________________________________________________________________________\n",
      "conv2d_14 (Conv2D)              (None, 3, None, None 867         leaky_re_lu_17[0][0]             \n",
      "__________________________________________________________________________________________________\n",
      "activation (Activation)         (None, 3, None, None 0           conv2d_14[0][0]                  \n",
      "__________________________________________________________________________________________________\n",
      "subtract (Subtract)             (None, 3, None, None 0           input_1[0][0]                    \n",
      "                                                                 activation[0][0]                 \n",
      "__________________________________________________________________________________________________\n",
      "conv2d_15 (Conv2D)              (None, 3, None, None 84          subtract[0][0]                   \n",
      "==================================================================================================\n",
      "Total params: 4,317,911\n",
      "Trainable params: 4,317,911\n",
      "Non-trainable params: 0\n",
      "__________________________________________________________________________________________________\n"
     ]
    }
   ],
   "source": [
    "generator.summary()"
   ]
  },
  {
   "cell_type": "code",
   "execution_count": 33,
   "metadata": {},
   "outputs": [],
   "source": [
    "generator.save('deflare.h5')"
   ]
  },
  {
   "cell_type": "code",
   "execution_count": 34,
   "metadata": {},
   "outputs": [],
   "source": [
    "import netron"
   ]
  },
  {
   "cell_type": "code",
   "execution_count": 35,
   "metadata": {},
   "outputs": [
    {
     "name": "stdout",
     "output_type": "stream",
     "text": [
      "Serving 'deflare.h5' at http://localhost:8989\n"
     ]
    }
   ],
   "source": [
    "netron.start('deflare.h5', port=8989)"
   ]
  },
  {
   "cell_type": "code",
   "execution_count": 28,
   "metadata": {},
   "outputs": [
    {
     "name": "stdout",
     "output_type": "stream",
     "text": [
      "\n",
      "Stopping http://localhost:8989\n"
     ]
    }
   ],
   "source": [
    "netron.stop(port=8989)"
   ]
  },
  {
   "cell_type": "markdown",
   "metadata": {},
   "source": [
    "## Define losses"
   ]
  },
  {
   "cell_type": "markdown",
   "metadata": {},
   "source": [
    "### Generator loss"
   ]
  },
  {
   "cell_type": "code",
   "execution_count": 14,
   "metadata": {},
   "outputs": [],
   "source": [
    "from train_utils.train  import losses"
   ]
  },
  {
   "cell_type": "code",
   "execution_count": 15,
   "metadata": {},
   "outputs": [],
   "source": [
    "vgg16_loss_1_3 = losses.make_VGG16_loss(blocks_dict={1:1, 3:1}, \n",
    "                                          weights_path=r\"/home/p00536919/usc-image-enhancement/srs_refactor/refactored_pipeline/vgg16_weights_tf_dim_ordering_tf_kernels_notop.h5\",\n",
    "                                          loss_type='MAE')"
   ]
  },
  {
   "cell_type": "code",
   "execution_count": 16,
   "metadata": {},
   "outputs": [],
   "source": [
    "def generator_loss(gen_output, target):\n",
    "    \n",
    "    gen_output = tf.transpose(gen_output, [0,2,3,1])\n",
    "    target = tf.transpose(target, [0,2,3,1])\n",
    "    \n",
    "    #img_shape = tf.shape(gen_output)\n",
    "\n",
    "    #upscale_factor = tf.random.uniform([1], minval=1, maxval=2.5)[0]\n",
    "    \n",
    "    #gen_output_upscaled = tf.image.resize(gen_output, [tf.cast(tf.cast(img_shape[1], tf.float32)*upscale_factor, tf.int32), tf.cast(tf.cast(img_shape[2], tf.float32)*upscale_factor, tf.int32)])\n",
    "    #target_upscaled = tf.image.resize(target, [tf.cast(tf.cast(img_shape[1], tf.float32)*upscale_factor, tf.int32), tf.cast(tf.cast(img_shape[2], tf.float32)*upscale_factor, tf.int32)])\n",
    "    \n",
    "    l1_loss_val = losses.L1_loss(target, gen_output)# + losses.L1_loss(target_upscaled, gen_output_upscaled)\n",
    "    \n",
    "    #ms_ssim_loss_val = losses.MS_SSIM_loss(target, gen_output)\n",
    "    ms_ssim_loss_val = (1 - tf.math.reduce_mean(tf.image.ssim_multiscale(target, gen_output, 1, power_factors=(0.4, 0.25, 0.25, 0.2363, 0.1333))))# + (1 - tf.math.reduce_mean(tf.image.ssim_multiscale(target_upscaled, gen_output_upscaled, 1, power_factors=(0.4, 0.25, 0.25, 0.2363, 0.1333))))\n",
    "\n",
    "    \n",
    "    vgg_loss_val = vgg16_loss_1_3(target, gen_output)# + vgg16_loss_1_3(target_upscaled, gen_output_upscaled)\n",
    "\n",
    "    total_gen_loss_val = 0.5 * l1_loss_val + 1 * ms_ssim_loss_val  + 0.08 * vgg_loss_val\n",
    "\n",
    "    return total_gen_loss_val, [l1_loss_val, ms_ssim_loss_val, vgg_loss_val]"
   ]
  },
  {
   "cell_type": "markdown",
   "metadata": {},
   "source": [
    "## Define the Optimizers and Checkpoint-saver"
   ]
  },
  {
   "cell_type": "code",
   "execution_count": 17,
   "metadata": {},
   "outputs": [
    {
     "data": {
      "text/plain": [
       "'decay_steps = 1000\\ninitial_learning_rate_generator = 2e-4\\ninitial_learning_rate_discriminator = 1e-4\\n\\nstep_decay = 1e-2\\n\\nboundaries = [1000]\\n\\nstep_decay_gen = tf.keras.optimizers.schedules.PiecewiseConstantDecay(boundaries, [initial_learning_rate_generator, initial_learning_rate_generator*step_decay])'"
      ]
     },
     "execution_count": 17,
     "metadata": {},
     "output_type": "execute_result"
    }
   ],
   "source": [
    "\"\"\"decay_steps = 1000\n",
    "initial_learning_rate_generator = 2e-4\n",
    "initial_learning_rate_discriminator = 1e-4\n",
    "\n",
    "step_decay = 1e-2\n",
    "\n",
    "boundaries = [1000]\n",
    "\n",
    "step_decay_gen = tf.keras.optimizers.schedules.PiecewiseConstantDecay(boundaries, [initial_learning_rate_generator, initial_learning_rate_generator*step_decay])\"\"\""
   ]
  },
  {
   "cell_type": "code",
   "execution_count": 20,
   "metadata": {},
   "outputs": [],
   "source": [
    "#generator_optimizer = tf.keras.optimizers.Adam(lr=2e-6, beta_1=0.25, beta_2=0.8)\n",
    "#generator_optimizer = tf.keras.optimizers.SGD(learning_rate=0.001, momentum=0.9)\n",
    "import tensorflow_addons as tfa\n",
    "\n",
    "radam = tfa.optimizers.RectifiedAdam(lr=2e-4)\n",
    "generator_optimizer = tfa.optimizers.Lookahead(radam, sync_period=6, slow_step_size=0.5)"
   ]
  },
  {
   "cell_type": "code",
   "execution_count": 21,
   "metadata": {},
   "outputs": [],
   "source": [
    "checkpoint_dir = '/shared/p00536919/training_checkpoints/flare_removal/' + datetime.now().strftime(\"%Y%m%d-%H%M%S\") + r\"_flare_only_32f_dil_stack_activations_BS1_shift\"\n",
    "checkpoint_prefix = os.path.join(checkpoint_dir, \"ckpt\")\n",
    "checkpoint = tf.train.Checkpoint(generator_optimizer=generator_optimizer, generator=generator)"
   ]
  },
  {
   "cell_type": "markdown",
   "metadata": {},
   "source": [
    "## Training"
   ]
  },
  {
   "cell_type": "code",
   "execution_count": 22,
   "metadata": {},
   "outputs": [],
   "source": [
    "log_dir=r\"/shared/p00536919/logs/flare_removal/\"\n",
    "\n",
    "summary_writer = tf.summary.create_file_writer(\n",
    "  log_dir + \"fit/\" + datetime.now().strftime(\"%Y%m%d-%H%M%S\")+\"_flare_only_32f_dil_stack_activations_BS1_shift\")\n",
    "\n",
    "file_writer_img = tf.summary.create_file_writer(log_dir + \"fit/\" + datetime.now().strftime(\"%Y%m%d-%H%M%S\")+\"_flare_only_32f_dil_stack_activations_BS1_shift\" + '/img')"
   ]
  },
  {
   "cell_type": "code",
   "execution_count": 23,
   "metadata": {},
   "outputs": [],
   "source": [
    "from train_utils.train  import train_step "
   ]
  },
  {
   "cell_type": "code",
   "execution_count": 24,
   "metadata": {},
   "outputs": [],
   "source": [
    "train_step = train_step.make_train_step()"
   ]
  },
  {
   "cell_type": "code",
   "execution_count": 25,
   "metadata": {},
   "outputs": [],
   "source": [
    "transform = A.Compose(\n",
    "    [A.ShiftScaleRotate(scale_limit=[-0.01, 5], rotate_limit=180, interpolation=cv2.INTER_CUBIC, border_mode=cv2.BORDER_REFLECT_101, p=0.8),\n",
    "     A.HueSaturationValue(hue_shift_limit=20/255, sat_shift_limit=20/255, val_shift_limit=30/255, always_apply=False, p=0.25),\n",
    "     A.ChannelShuffle(p=0.25)],\n",
    "    additional_targets={'image0': 'image'}\n",
    ")"
   ]
  },
  {
   "cell_type": "code",
   "execution_count": 26,
   "metadata": {},
   "outputs": [],
   "source": [
    "def random_alpha_blend(image, size=224, max_shift=100, seed=244, proba=0.5): \n",
    "    np.random.seed(seed)\n",
    "    proba_gen = np.random.random()\n",
    "    if proba_gen<proba:\n",
    "        np.random.seed(seed)\n",
    "        width_shift = np.random.randint(0, high=max_shift)\n",
    "        np.random.seed(seed)\n",
    "        height_shift = np.random.randint(0, high=max_shift)\n",
    "        image_shifted = (cv2.copyMakeBorder((image*255).astype(np.uint8),0,height_shift,0,width_shift,cv2.BORDER_WRAP)/255.0)[height_shift:, width_shift:, :]\n",
    "        image = np.where(image<image_shifted, image_shifted, image)\n",
    "    else:\n",
    "        pass\n",
    "    return image"
   ]
  },
  {
   "cell_type": "code",
   "execution_count": 27,
   "metadata": {},
   "outputs": [],
   "source": [
    "proba = 0.25"
   ]
  },
  {
   "cell_type": "code",
   "execution_count": 28,
   "metadata": {},
   "outputs": [],
   "source": [
    "new_test_image = plt.imread(r\"/shared/p00536919/000210_inp.png\")\n",
    "new_test_image = cv2.resize(new_test_image, (1920//4, 1080//4))[np.newaxis, :264, :480, :]\n",
    "new_test_image = tf.cast(new_test_image, tf.float32)"
   ]
  },
  {
   "cell_type": "code",
   "execution_count": 29,
   "metadata": {},
   "outputs": [],
   "source": [
    "def fit(epochs, run):\n",
    "           \n",
    "    for epoch in range(epochs):  \n",
    "        epoch += int(epochs * run)\n",
    "        start = time.time()\n",
    "        display.clear_output(wait=True)\n",
    "        \n",
    "        if (epoch+1) % 2 == 0:\n",
    "            generator.save_weights(\"./weights_train/log_weights0_32_epoch_{}.hdf5\".format(epoch))\n",
    "            with tf.device('/GPU:0'):\n",
    "                tf.keras.backend.clear_session()\n",
    "                test_generator = Generator()\n",
    "                test_generator.load_weights(\"./weights_train/log_weights0_32_epoch_{}.hdf5\".format(epoch))                \n",
    "                #test_image = np.zeros((2448, 3264, 6))\n",
    "                ing_index = np.random.randint(len(usc_arrays_downscaled))\n",
    "                test_image = usc_arrays_downscaled[ing_index][np.newaxis, :264, :480, :]\n",
    "                test_image = tf.cast(test_image, tf.float32)\n",
    "                #test_image = tf.image.resize(test_image, [256,256])\n",
    "                preds = test_generator(tf.transpose(test_image,[0,3,1,2]), training=True)  \n",
    "                preds = tf.transpose(preds, [0,2,3,1])\n",
    "                \n",
    "                preds1 = test_generator(tf.transpose(new_test_image,[0,3,1,2]), training=True)  \n",
    "                preds1 = tf.transpose(preds1, [0,2,3,1])\n",
    "            \n",
    "            with file_writer_img.as_default():                \n",
    "                tf.summary.image(\"Input_image\", usc_arrays_downscaled[ing_index][np.newaxis, :264, :480, :3], step=epoch)\n",
    "                tf.summary.image(\"Ground truth\", gt_arrays_downscaled[ing_index][np.newaxis, :264, :480, :3], step=epoch)\n",
    "                tf.summary.image(\"Model results\", preds.numpy()[:, :,:,:3], step=epoch)\n",
    "                tf.summary.image(\"Input1\", new_test_image.numpy()[:, :,:,:3], step=epoch)\n",
    "                tf.summary.image(\"Model results 1\", preds1.numpy()[:, :,:,:3], step=epoch)\n",
    "                \n",
    "                \n",
    "        print(\"Epoch: \", epoch)\n",
    "        train_data_generator.on_epoch_end()\n",
    "        # Train\n",
    "        gen_total_loss, l1_loss_val, ms_ssim_loss_val, vgg_loss_val  = 0, 0, 0, 0\n",
    "        \n",
    "        for n, (input_image, target) in enumerate(train_data_generator):\n",
    "            print('.', end='')\n",
    "            if (n+1) % 100 == 0:\n",
    "                print('\\n')\n",
    "            input_image = np.array(input_image)            \n",
    "            target = np.array(target)\n",
    "            \n",
    "            for pair_id in range(len(input_image)):\n",
    "                seed = np.random.randint(0,1000)\n",
    "                input_image[pair_id] = random_alpha_blend(input_image[pair_id], size=224, max_shift=100, seed=seed, proba=proba)\n",
    "                target[pair_id] = random_alpha_blend(target[pair_id], size=224, max_shift=100, seed=seed, proba=proba)\n",
    "                transformed = transform(image=input_image[pair_id], image0=target[pair_id])\n",
    "            \n",
    "                input_image[pair_id] = transformed['image']\n",
    "                target[pair_id] = transformed['image0']\n",
    "\n",
    "            input_image = tf.cast(input_image, tf.float32)\n",
    "            target = tf.cast(target, tf.float32)\n",
    "\n",
    "            \n",
    "            losses = train_step(input_image=tf.transpose(tf.cast(input_image, tf.float32), [0,3,1,2]),\n",
    "                                    target=tf.transpose(target,[0,3,1,2]),\n",
    "                                    generator=generator,                                    \n",
    "                                    generator_loss=generator_loss,\n",
    "                                    generator_optimizer=generator_optimizer,\n",
    "                                    training=True)\n",
    "            \n",
    "            gen_total_loss += losses[0]\n",
    "            \n",
    "            l1_loss_val += losses[1][0]\n",
    "            ms_ssim_loss_val += losses[1][1]\n",
    "            vgg_loss_val += losses[1][2]\n",
    "            \n",
    "            \n",
    "            \n",
    "        print()\n",
    "        with summary_writer.as_default():\n",
    "            tf.summary.scalar('gen_total_loss', gen_total_loss/len(train_data_generator), step=epoch)\n",
    "            #tf.summary.scalar('gan_loss_val', gan_loss_val/len(train_data_generator), step=epoch)\n",
    "            tf.summary.scalar('l1_loss_val', l1_loss_val/len(train_data_generator), step=epoch)\n",
    "            tf.summary.scalar('ms_ssim_loss_val', ms_ssim_loss_val/len(train_data_generator), step=epoch)\n",
    "            tf.summary.scalar('vgg_loss_val', vgg_loss_val/len(train_data_generator), step=epoch)\n",
    "            #tf.summary.scalar('vgg_loss_val', vgg_loss_val/len(train_data_generator), step=epoch)\n",
    "            #tf.summary.scalar('disc_loss ', disc_loss /len(train_data_generator), step=epoch)\n",
    "            \n",
    "        # saving (checkpoint) the model every 250 epochs\n",
    "        if (epoch + 1) % 100 == 0:\n",
    "            checkpoint.save(file_prefix = checkpoint_prefix)\n",
    "            \n",
    "        \"\"\"if (epoch + 1) % 1000 == 0:\n",
    "            generator.save_weights(\"avg_weights_gen_{}-1.hdf5\".format(epoch))\n",
    "            #discriminator.save_weights(\"avg_weights_disc_{}-1.hdf5\".format(epoch))\"\"\"\n",
    "            \n",
    "        print ('Time taken for epoch {} is {} sec\\n'.format(epoch + 1,\n",
    "                                                                time.time()-start))\n"
   ]
  },
  {
   "cell_type": "code",
   "execution_count": 30,
   "metadata": {},
   "outputs": [],
   "source": [
    "EPOCHS = 1000"
   ]
  },
  {
   "cell_type": "code",
   "execution_count": null,
   "metadata": {},
   "outputs": [],
   "source": [
    "for i in range(100):\n",
    "    fit(EPOCHS, i)"
   ]
  },
  {
   "cell_type": "markdown",
   "metadata": {},
   "source": [
    "### Restore from checkpoint"
   ]
  },
  {
   "cell_type": "code",
   "execution_count": 66,
   "metadata": {},
   "outputs": [
    {
     "data": {
      "text/plain": [
       "<tensorflow.python.training.tracking.util.CheckpointLoadStatus at 0x7fd2a813e550>"
      ]
     },
     "execution_count": 66,
     "metadata": {},
     "output_type": "execute_result"
    }
   ],
   "source": [
    "checkpoint.restore(\"/shared/p00536919/training_checkpoints/flare_removal/20210301-164316_flare_only_32f_dil_stack_activations_BS4/ckpt-6\")"
   ]
  },
  {
   "cell_type": "markdown",
   "metadata": {},
   "source": [
    "### Save Models"
   ]
  },
  {
   "cell_type": "code",
   "execution_count": 51,
   "metadata": {},
   "outputs": [],
   "source": [
    "generator.save_weights(r'./weights/trained_vanilla_pix2pix_hist_superlight_no_rescale_FINAL_gen_no_gamma_11_5_2020.hdf5')\n",
    "discriminator.save_weights(r'./weights/trained_vanilla_pix2pix_hist_superlight_no_rescale_FINAL_disc_no_gamma_18_5_2020.hdf5')"
   ]
  },
  {
   "cell_type": "code",
   "execution_count": 39,
   "metadata": {
    "pycharm": {
     "name": "#%%\n"
    }
   },
   "outputs": [],
   "source": [
    "generator.load_weights(r'F:\\models\\new_approach_gen_27_2_2020.hdf5')\n",
    "discriminator.load_weights(r'F:\\models\\new_approach_disc_27_2_2020.hdf5')"
   ]
  },
  {
   "cell_type": "code",
   "execution_count": null,
   "metadata": {},
   "outputs": [],
   "source": []
  }
 ],
 "metadata": {
  "kernelspec": {
   "display_name": "Python 3",
   "language": "python",
   "name": "python3"
  },
  "language_info": {
   "codemirror_mode": {
    "name": "ipython",
    "version": 3
   },
   "file_extension": ".py",
   "mimetype": "text/x-python",
   "name": "python",
   "nbconvert_exporter": "python",
   "pygments_lexer": "ipython3",
   "version": "3.8.2"
  },
  "pycharm": {
   "stem_cell": {
    "cell_type": "raw",
    "metadata": {
     "collapsed": false
    },
    "source": []
   }
  }
 },
 "nbformat": 4,
 "nbformat_minor": 4
}
