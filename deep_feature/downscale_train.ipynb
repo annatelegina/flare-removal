{
 "cells": [
  {
   "cell_type": "code",
   "execution_count": 3,
   "metadata": {
    "pycharm": {
     "is_executing": false
    }
   },
   "outputs": [],
   "source": [
    "import tensorflow as tf\n",
    "from tensorflow.keras import layers\n",
    "from tensorflow import keras \n",
    "\n",
    "import os\n",
    "import time\n",
    "from datetime import datetime\n",
    "\n",
    "from matplotlib import pyplot as plt\n",
    "from IPython import display\n",
    "import numpy as np\n",
    "from tqdm import tqdm\n",
    "import cv2"
   ]
  },
  {
   "cell_type": "code",
   "execution_count": 4,
   "metadata": {},
   "outputs": [
    {
     "data": {
      "text/plain": [
       "'2.2.0'"
      ]
     },
     "execution_count": 4,
     "metadata": {},
     "output_type": "execute_result"
    }
   ],
   "source": [
    "tf.__version__"
   ]
  },
  {
   "cell_type": "markdown",
   "metadata": {},
   "source": [
    "## Create training dataset"
   ]
  },
  {
   "cell_type": "code",
   "execution_count": 51,
   "metadata": {},
   "outputs": [],
   "source": [
    "USC_FOLDERS = [r\"/shared/data1/HDRP_indoor_dataset/png/B\", \n",
    "               r\"/shared/data1/Datasets_from_Noah_team/20200303flarehdrp/png/B\",\n",
    "               r\"/shared/data1/Datasets_from_Noah_team/20200313outsidehdrp/png/light/B\",\n",
    "               r\"/shared/data1/Datasets_from_Noah_team/20200323/png/B\",\n",
    "               r\"/shared/data1/Datasets_from_Noah_team/20200324/png/light/B\",\n",
    "               r\"/shared/data1/Datasets_from_Noah_team/20200324/png/no_light/B\",\n",
    "               r\"/shared/data1/Datasets_from_Noah_team/20200324_2/png/light/B\",\n",
    "               r\"/shared/data1/Datasets_from_Noah_team/20200324_2/png/no_light/B\",\n",
    "              r\"/shared/data1/Datasets_from_Noah_team/20200325/png/B\",\n",
    "              r\"/shared/data1/Datasets_from_Noah_team/20200330night/png/B\",\n",
    "              r\"/shared/data1/Datasets_from_Noah_team/20200331night/png/B\",\n",
    "               r\"/shared/data1/Datasets_from_Noah_team/20200402day/png/B\",\n",
    "               r\"/shared/data1/Datasets_from_Noah_team/20200402night/png/B\",\n",
    "              r\"/shared/data1/Datasets_from_Noah_team/20200407night/png/B\",\n",
    "              r\"/shared/data1/Datasets_from_Noah_team/20200409night/png/B\",\n",
    "              r\"/shared/data1/datasets_04_11_2020/capturing_datasets/20201016/2_old_screen_B\",\n",
    "              r\"/shared/data1/datasets_04_11_2020/capturing_datasets/20201020/2_old_screen_B\",\n",
    "              r\"/shared/data1/datasets_04_11_2020/capturing_datasets/20201021/2_old_screen_B\",\n",
    "              r\"/shared/data1/datasets_04_11_2020/capturing_datasets/20201021_2/2_old_screen_B\",\n",
    "              r\"/shared/data1/datasets_04_11_2020/capturing_datasets/20201022/2_old_screen_B\",\n",
    "              r\"/shared/data1/datasets_04_11_2020/capturing_datasets/20201022_2/2_old_screen_B\",\n",
    "              r\"/shared/data1/datasets_04_11_2020/capturing_datasets/20201022_3/2_old_screen_B\",\n",
    "              r\"/shared/data1/datasets_04_11_2020/capturing_datasets/20201023/2_old_screen_B\",\n",
    "              r\"/shared/data1/datasets_04_11_2020/capturing_datasets/20201027/2_old_screen_B\",\n",
    "              r\"/shared/data1/datasets_04_11_2020/capturing_datasets/20201030/2_old_screen_B\",\n",
    "              r\"/shared/data1/datasets_04_11_2020/capturing_datasets/20201102/2_old_screen_B\",\n",
    "              r\"/shared/data1/datasets_04_11_2020/capturing_datasets/20201103/2_old_screen_B\",\n",
    "              r\"/shared/data1/datasets_04_11_2020/capturing_datasets/20201103_2/2_old_screen_B\"]\n",
    "GT_FOLDERS = [r\"/shared/data1/HDRP_indoor_dataset/png/gt\", \n",
    "              r\"/shared/data1/Datasets_from_Noah_team/20200303flarehdrp/png/gt\",\n",
    "               r\"/shared/data1/Datasets_from_Noah_team/20200313outsidehdrp/png/light/gt\",\n",
    "               r\"/shared/data1/Datasets_from_Noah_team/20200323/png/gt\",\n",
    "               r\"/shared/data1/Datasets_from_Noah_team/20200324/png/light/gt\",\n",
    "               r\"/shared/data1/Datasets_from_Noah_team/20200324/png/no_light/gt\",\n",
    "               r\"/shared/data1/Datasets_from_Noah_team/20200324_2/png/light/gt\",\n",
    "               r\"/shared/data1/Datasets_from_Noah_team/20200324_2/png/no_light/gt\",\n",
    "              r\"/shared/data1/Datasets_from_Noah_team/20200325/png/gt\",\n",
    "              r\"/shared/data1/Datasets_from_Noah_team/20200330night/png/gt\",\n",
    "              r\"/shared/data1/Datasets_from_Noah_team/20200331night/png/gt\",\n",
    "               r\"/shared/data1/Datasets_from_Noah_team/20200402day/png/gt\",\n",
    "               r\"/shared/data1/Datasets_from_Noah_team/20200402night/png/gt\",\n",
    "             r\"/shared/data1/Datasets_from_Noah_team/20200407night/png/gt\",\n",
    "              r\"/shared/data1/Datasets_from_Noah_team/20200409night/png/gt\",\n",
    "              r\"/shared/data1/datasets_04_11_2020/capturing_datasets/20201016/1_gt\",\n",
    "              r\"/shared/data1/datasets_04_11_2020/capturing_datasets/20201020/1_gt\",\n",
    "              r\"/shared/data1/datasets_04_11_2020/capturing_datasets/20201021/1_gt\",\n",
    "              r\"/shared/data1/datasets_04_11_2020/capturing_datasets/20201021_2/1_gt\",\n",
    "              r\"/shared/data1/datasets_04_11_2020/capturing_datasets/20201022/1_gt\",\n",
    "              r\"/shared/data1/datasets_04_11_2020/capturing_datasets/20201022_2/1_gt\",\n",
    "              r\"/shared/data1/datasets_04_11_2020/capturing_datasets/20201022_3/1_gt\",\n",
    "              r\"/shared/data1/datasets_04_11_2020/capturing_datasets/20201023/1_gt\",\n",
    "              r\"/shared/data1/datasets_04_11_2020/capturing_datasets/20201027/1_gt\",\n",
    "              r\"/shared/data1/datasets_04_11_2020/capturing_datasets/20201030/1_gt\",\n",
    "              r\"/shared/data1/datasets_04_11_2020/capturing_datasets/20201102/1_gt\",\n",
    "              r\"/shared/data1/datasets_04_11_2020/capturing_datasets/20201103/1_gt\",\n",
    "              r\"/shared/data1/datasets_04_11_2020/capturing_datasets/20201103_2/1_gt\"]"
   ]
  },
  {
   "cell_type": "code",
   "execution_count": 52,
   "metadata": {},
   "outputs": [],
   "source": [
    "from train_utils.utils  import dataset, image_io, image_transform\n",
    "from train_utils.train  import losses, train_step"
   ]
  },
  {
   "cell_type": "code",
   "execution_count": 53,
   "metadata": {},
   "outputs": [],
   "source": [
    "png_image_reader = image_io.ImageReaderPNG(transform_list=None)"
   ]
  },
  {
   "cell_type": "code",
   "execution_count": 54,
   "metadata": {},
   "outputs": [
    {
     "name": "stderr",
     "output_type": "stream",
     "text": [
      "100%|██████████| 71/71 [00:18<00:00,  3.94it/s]\n",
      "100%|██████████| 99/99 [00:24<00:00,  4.09it/s]\n",
      "100%|██████████| 15/15 [00:03<00:00,  4.15it/s]\n",
      "100%|██████████| 89/89 [00:22<00:00,  3.96it/s]\n",
      "100%|██████████| 19/19 [00:04<00:00,  4.21it/s]\n",
      "100%|██████████| 17/17 [00:04<00:00,  4.19it/s]\n",
      "100%|██████████| 19/19 [00:04<00:00,  4.05it/s]\n",
      "100%|██████████| 13/13 [00:03<00:00,  3.96it/s]\n",
      "100%|██████████| 41/41 [00:10<00:00,  4.02it/s]\n",
      "100%|██████████| 52/52 [00:11<00:00,  4.36it/s]\n",
      "100%|██████████| 22/22 [00:05<00:00,  4.10it/s]\n",
      "100%|██████████| 6/6 [00:01<00:00,  4.69it/s]\n",
      "100%|██████████| 39/39 [00:09<00:00,  4.00it/s]\n",
      "100%|██████████| 49/49 [00:12<00:00,  3.99it/s]\n",
      "100%|██████████| 38/38 [00:09<00:00,  4.02it/s]\n",
      "100%|██████████| 13/13 [00:03<00:00,  3.66it/s]\n",
      "100%|██████████| 96/96 [00:26<00:00,  3.68it/s]\n",
      "100%|██████████| 26/26 [00:07<00:00,  3.38it/s]\n",
      "100%|██████████| 37/37 [00:09<00:00,  3.73it/s]\n",
      "100%|██████████| 25/25 [00:07<00:00,  3.50it/s]\n",
      "100%|██████████| 84/84 [00:22<00:00,  3.72it/s]\n",
      "100%|██████████| 16/16 [00:04<00:00,  3.51it/s]\n",
      "100%|██████████| 28/28 [00:07<00:00,  3.51it/s]\n",
      "100%|██████████| 18/18 [00:05<00:00,  3.42it/s]\n",
      "100%|██████████| 39/39 [00:11<00:00,  3.44it/s]\n",
      "100%|██████████| 55/55 [00:15<00:00,  3.60it/s]\n",
      "100%|██████████| 58/58 [00:15<00:00,  3.67it/s]\n",
      "100%|██████████| 34/34 [00:09<00:00,  3.49it/s]\n"
     ]
    }
   ],
   "source": [
    "usc_arrays = dataset.get_images_array(folders_list=USC_FOLDERS, image_reader=png_image_reader, images_extension='.png')"
   ]
  },
  {
   "cell_type": "code",
   "execution_count": 55,
   "metadata": {},
   "outputs": [
    {
     "data": {
      "text/plain": [
       "1105"
      ]
     },
     "execution_count": 55,
     "metadata": {},
     "output_type": "execute_result"
    }
   ],
   "source": [
    "len(usc_arrays)"
   ]
  },
  {
   "cell_type": "code",
   "execution_count": 56,
   "metadata": {},
   "outputs": [
    {
     "name": "stderr",
     "output_type": "stream",
     "text": [
      "100%|██████████| 71/71 [00:17<00:00,  4.06it/s]\n",
      "100%|██████████| 99/99 [00:25<00:00,  3.87it/s]\n",
      "100%|██████████| 15/15 [00:03<00:00,  3.97it/s]\n",
      "100%|██████████| 89/89 [00:22<00:00,  3.88it/s]\n",
      "100%|██████████| 19/19 [00:04<00:00,  4.17it/s]\n",
      "100%|██████████| 17/17 [00:04<00:00,  4.13it/s]\n",
      "100%|██████████| 19/19 [00:04<00:00,  4.05it/s]\n",
      "100%|██████████| 14/14 [00:03<00:00,  4.20it/s]\n",
      "100%|██████████| 41/41 [00:09<00:00,  4.21it/s]\n",
      "100%|██████████| 52/52 [00:12<00:00,  4.31it/s]\n",
      "100%|██████████| 22/22 [00:05<00:00,  4.08it/s]\n",
      "100%|██████████| 6/6 [00:01<00:00,  4.45it/s]\n",
      "100%|██████████| 39/39 [00:10<00:00,  3.89it/s]\n",
      "100%|██████████| 48/48 [00:12<00:00,  3.93it/s]\n",
      "100%|██████████| 37/37 [00:09<00:00,  3.82it/s]\n",
      "100%|██████████| 13/13 [00:03<00:00,  3.60it/s]\n",
      "100%|██████████| 96/96 [00:26<00:00,  3.60it/s]\n",
      "100%|██████████| 26/26 [00:07<00:00,  3.41it/s]\n",
      "100%|██████████| 37/37 [00:09<00:00,  3.70it/s]\n",
      "100%|██████████| 25/25 [00:07<00:00,  3.44it/s]\n",
      "100%|██████████| 84/84 [00:22<00:00,  3.78it/s]\n",
      "100%|██████████| 16/16 [00:04<00:00,  3.50it/s]\n",
      "100%|██████████| 28/28 [00:07<00:00,  3.63it/s]\n",
      "100%|██████████| 18/18 [00:05<00:00,  3.48it/s]\n",
      "100%|██████████| 39/39 [00:11<00:00,  3.39it/s]\n",
      "100%|██████████| 55/55 [00:15<00:00,  3.60it/s]\n",
      "100%|██████████| 58/58 [00:15<00:00,  3.70it/s]\n",
      "100%|██████████| 34/34 [00:09<00:00,  3.45it/s]\n"
     ]
    }
   ],
   "source": [
    "gt_arrays = dataset.get_images_array(folders_list=GT_FOLDERS, image_reader=png_image_reader, images_extension='.png')"
   ]
  },
  {
   "cell_type": "code",
   "execution_count": 57,
   "metadata": {},
   "outputs": [
    {
     "data": {
      "text/plain": [
       "1105"
      ]
     },
     "execution_count": 57,
     "metadata": {},
     "output_type": "execute_result"
    }
   ],
   "source": [
    "len(gt_arrays)"
   ]
  },
  {
   "cell_type": "code",
   "execution_count": 58,
   "metadata": {},
   "outputs": [],
   "source": [
    "from skimage.transform import rescale, resize"
   ]
  },
  {
   "cell_type": "code",
   "execution_count": 59,
   "metadata": {},
   "outputs": [],
   "source": [
    "def img_resize(image):\n",
    "    new_img = cv2.resize(image, (3264//8, 2448//8))#, anti_aliasing=True)\n",
    "    #print('resized')\n",
    "    return new_img"
   ]
  },
  {
   "cell_type": "code",
   "execution_count": 60,
   "metadata": {},
   "outputs": [
    {
     "name": "stderr",
     "output_type": "stream",
     "text": [
      "100%|██████████| 1105/1105 [00:00<00:00, 1218.40it/s]\n"
     ]
    }
   ],
   "source": [
    "usc_arrays_downscaled = [img_resize(image) for image in tqdm(usc_arrays)]"
   ]
  },
  {
   "cell_type": "code",
   "execution_count": 61,
   "metadata": {},
   "outputs": [
    {
     "name": "stderr",
     "output_type": "stream",
     "text": [
      "100%|██████████| 1105/1105 [00:00<00:00, 1185.63it/s]\n"
     ]
    }
   ],
   "source": [
    "gt_arrays_downscaled = [img_resize(image) for image in tqdm(gt_arrays)]"
   ]
  },
  {
   "cell_type": "code",
   "execution_count": 62,
   "metadata": {},
   "outputs": [],
   "source": [
    "np.savez(\"usc_arrays_downscaled_capturing\", usc_arrays_downscaled)\n",
    "np.savez(\"gt_arrays_downscaled_capturing\", gt_arrays_downscaled)"
   ]
  },
  {
   "cell_type": "markdown",
   "metadata": {},
   "source": [
    "## GPU selection"
   ]
  },
  {
   "cell_type": "code",
   "execution_count": 6,
   "metadata": {},
   "outputs": [],
   "source": [
    "physical_devices = tf.config.experimental.list_physical_devices('GPU')\n",
    "tf.config.experimental.set_memory_growth(physical_devices[2], True) \n",
    "tf.config.experimental.set_visible_devices(physical_devices[2], 'GPU')"
   ]
  },
  {
   "cell_type": "code",
   "execution_count": 7,
   "metadata": {},
   "outputs": [],
   "source": [
    "tf.keras.backend.clear_session()"
   ]
  },
  {
   "cell_type": "markdown",
   "metadata": {},
   "source": [
    "## Dataset creation"
   ]
  },
  {
   "cell_type": "code",
   "execution_count": 63,
   "metadata": {},
   "outputs": [],
   "source": [
    "usc_arrays_downscaled = np.load(\"/home/p00536919/Flare_removal/Downscale_ref/usc_arrays_downscaled_capturing.npz\")['arr_0']\n",
    "gt_arrays_downscaled = np.load(\"/home/p00536919/Flare_removal/Downscale_ref/gt_arrays_downscaled_capturing.npz\")['arr_0']"
   ]
  },
  {
   "cell_type": "code",
   "execution_count": 64,
   "metadata": {},
   "outputs": [
    {
     "name": "stderr",
     "output_type": "stream",
     "text": [
      "100%|██████████| 1105/1105 [00:14<00:00, 76.41it/s]\n"
     ]
    }
   ],
   "source": [
    "from guided_filter_tf.guided_filter import guided_filter\n",
    "\n",
    "for num, (usc_image, gt_image) in tqdm(list(enumerate(zip(usc_arrays_downscaled, gt_arrays_downscaled)))):\n",
    "    \n",
    "    gt_image = guided_filter(x=tf.cast(gt_image[np.newaxis, :, :, :], tf.float32),\n",
    "                             y=tf.cast(usc_image[np.newaxis, :, :, :], tf.float32), r=100, nhwc=True)\n",
    "    gt_image = gt_image.numpy()[0]\n",
    "    gt_arrays_downscaled[num] = gt_image"
   ]
  },
  {
   "cell_type": "code",
   "execution_count": 65,
   "metadata": {},
   "outputs": [],
   "source": [
    "training_dataset = (usc_arrays_downscaled, gt_arrays_downscaled)"
   ]
  },
  {
   "cell_type": "code",
   "execution_count": 66,
   "metadata": {},
   "outputs": [],
   "source": [
    "train_data_generator = dataset.DataGenerator(training_dataset, patch_size=224, batch_size=1, image_size=(2448//8, 3264//8), shuffle=True, pad=2)"
   ]
  },
  {
   "cell_type": "markdown",
   "metadata": {},
   "source": [
    "### Clear logs"
   ]
  },
  {
   "cell_type": "code",
   "execution_count": 16,
   "metadata": {},
   "outputs": [],
   "source": [
    "#!RMDIR /Q /S G:\\logs\\flare_removal\n",
    "#!rm -rf /shared/p00536919/logs/flare_removal"
   ]
  },
  {
   "cell_type": "markdown",
   "metadata": {},
   "source": [
    "## Build models"
   ]
  },
  {
   "cell_type": "markdown",
   "metadata": {
    "jupyter": {
     "outputs_hidden": false
    },
    "pycharm": {
     "is_executing": false,
     "name": "#%%\n"
    }
   },
   "source": [
    "### Generator"
   ]
  },
  {
   "cell_type": "code",
   "execution_count": 12,
   "metadata": {},
   "outputs": [],
   "source": [
    "def conv_block(growth_rate, filters, kernel_size, strides, x):\n",
    "    x = tf.keras.layers.Conv2D(growth_rate * filters, kernel_size, padding='same', strides=strides, data_format='channels_first')(x)\n",
    "    x = tf.keras.layers.LeakyReLU()(x)\n",
    "    return x\n",
    "\n",
    "\n",
    "def dilated_conv_block(growth_rate, filters, kernel_size, dilation_rate, x):\n",
    "    x = tf.keras.layers.Conv2D(growth_rate * filters, kernel_size, padding='same', dilation_rate=dilation_rate, data_format='channels_first')(x)\n",
    "    x = tf.keras.layers.LeakyReLU()(x)\n",
    "    return x\n",
    "\n",
    "\n",
    "def conv_skip_block(growth_rate, filters, kernel_size, x):\n",
    "    x = tf.keras.layers.Conv2DTranspose(growth_rate * filters, kernel_size, padding='same', data_format='channels_first')(x)\n",
    "    x = tf.keras.layers.LeakyReLU()(x)\n",
    "    return x\n",
    "\n",
    "\n",
    "def deconv_block(growth_rate, filters, kernel_size, strides, x):\n",
    "    x = tf.keras.layers.Conv2DTranspose(growth_rate * filters, kernel_size, padding='same', strides=strides, data_format='channels_first')(x)\n",
    "    x = tf.keras.layers.AveragePooling2D((2, 2), 1, padding='same', data_format='channels_first')(x)\n",
    "    x = tf.keras.layers.LeakyReLU()(x)\n",
    "    return x"
   ]
  },
  {
   "cell_type": "code",
   "execution_count": 13,
   "metadata": {},
   "outputs": [],
   "source": [
    "def Generator(height=None, width=None, input_channels=3, filters=8):\n",
    "\n",
    "    inputs = tf.keras.Input(shape=[input_channels, height, width])\n",
    "\n",
    "    x = conv_block(growth_rate=2, filters=filters, kernel_size=(5, 5), strides=1, x=inputs)\n",
    "    res1 = x\n",
    "\n",
    "    x = conv_block(growth_rate=4, filters=filters, kernel_size=(3, 3), strides=2, x=x)\n",
    "    x = conv_block(growth_rate=4, filters=filters, kernel_size=(3, 3), strides=1, x=x)\n",
    "    res2 = x\n",
    "\n",
    "    x = conv_block(growth_rate=4, filters=filters, kernel_size=(3, 3), strides=2, x=x)\n",
    "    x = conv_block(growth_rate=8, filters=filters, kernel_size=(3, 3), strides=1, x=x)\n",
    "    x = conv_block(growth_rate=8, filters=filters, kernel_size=(3, 3), strides=1, x=x)\n",
    "\n",
    "    x = dilated_conv_block(growth_rate=8, filters=filters, kernel_size=(3, 3), dilation_rate=2, x=x)\n",
    "    x = dilated_conv_block(growth_rate=8, filters=filters, kernel_size=(3, 3), dilation_rate=4, x=x)\n",
    "    x = dilated_conv_block(growth_rate=8, filters=filters, kernel_size=(3, 3), dilation_rate=8, x=x)\n",
    "    x = dilated_conv_block(growth_rate=8, filters=filters, kernel_size=(3, 3), dilation_rate=16, x=x)\n",
    "\n",
    "    x = conv_block(growth_rate=8, filters=filters, kernel_size=(3, 3), strides=1, x=x)\n",
    "    x = conv_block(growth_rate=8, filters=filters, kernel_size=(3, 3), strides=1, x=x)\n",
    "\n",
    "    x = deconv_block(growth_rate=4, filters=filters, kernel_size=(4, 4), strides=2, x=x)\n",
    "\n",
    "    x = tf.keras.layers.Concatenate(axis=1)([x, res2])\n",
    "    x = conv_skip_block(growth_rate=4, filters=filters, kernel_size=(1, 1), x=x)\n",
    "\n",
    "    x = conv_block(growth_rate=8, filters=filters, kernel_size=(3, 3), strides=1, x=x)\n",
    "\n",
    "    x = deconv_block(growth_rate=2, filters=filters, kernel_size=(4, 4), strides=2, x=x)\n",
    "\n",
    "    x = tf.keras.layers.Concatenate(axis=1)([x, res1])\n",
    "    x = conv_skip_block(growth_rate=2, filters=filters, kernel_size=(1, 1), x=x)\n",
    "\n",
    "    x = conv_block(growth_rate=1, filters=filters, kernel_size=(3, 3), strides=1, x=x)\n",
    "    x = tf.keras.layers.Conv2D(3, (3, 3), padding='same', data_format='channels_first')(x)\n",
    "    x = tf.keras.layers.Subtract()([inputs, x])\n",
    "    \n",
    "    _model = tf.keras.Model(inputs=inputs, outputs=x, name='derain_net')\n",
    "    return _model  \n"
   ]
  },
  {
   "cell_type": "code",
   "execution_count": 14,
   "metadata": {},
   "outputs": [],
   "source": [
    "generator = Generator()"
   ]
  },
  {
   "cell_type": "code",
   "execution_count": null,
   "metadata": {},
   "outputs": [],
   "source": [
    "generator.summary()"
   ]
  },
  {
   "cell_type": "code",
   "execution_count": 45,
   "metadata": {},
   "outputs": [],
   "source": [
    "generator.save('deflare.h5')"
   ]
  },
  {
   "cell_type": "code",
   "execution_count": 46,
   "metadata": {},
   "outputs": [],
   "source": [
    "import netron"
   ]
  },
  {
   "cell_type": "code",
   "execution_count": 47,
   "metadata": {},
   "outputs": [
    {
     "name": "stdout",
     "output_type": "stream",
     "text": [
      "Serving 'deflare.h5' at http://localhost:8989\n"
     ]
    }
   ],
   "source": [
    "netron.start('deflare.h5', port=8989)"
   ]
  },
  {
   "cell_type": "code",
   "execution_count": 48,
   "metadata": {},
   "outputs": [
    {
     "name": "stdout",
     "output_type": "stream",
     "text": [
      "\n",
      "Stopping http://localhost:8989\n"
     ]
    }
   ],
   "source": [
    "netron.stop(port=8989)"
   ]
  },
  {
   "cell_type": "markdown",
   "metadata": {},
   "source": [
    "## Define losses"
   ]
  },
  {
   "cell_type": "markdown",
   "metadata": {},
   "source": [
    "### Generator loss"
   ]
  },
  {
   "cell_type": "code",
   "execution_count": 15,
   "metadata": {},
   "outputs": [],
   "source": [
    "from train_utils.train  import losses"
   ]
  },
  {
   "cell_type": "code",
   "execution_count": 16,
   "metadata": {},
   "outputs": [],
   "source": [
    "vgg16_loss_1_3 = losses.make_VGG16_loss(blocks_dict={1:1, 2:1, 3:1, 4:1, 5:1}, \n",
    "                                          weights_path=r\"/home/p00536919/usc-image-enhancement/srs_refactor/refactored_pipeline/vgg16_weights_tf_dim_ordering_tf_kernels_notop.h5\",\n",
    "                                          loss_type='MSE')"
   ]
  },
  {
   "cell_type": "code",
   "execution_count": 17,
   "metadata": {},
   "outputs": [],
   "source": [
    "def generator_loss(gen_output, target):\n",
    "    \n",
    "    gen_output = tf.transpose(gen_output, [0,2,3,1])\n",
    "    target = tf.transpose(target, [0,2,3,1])\n",
    "\n",
    "    l1_loss_val = losses.L1_loss(target, gen_output)\n",
    "    \n",
    "    #ms_ssim_loss_val = losses.MS_SSIM_loss(target, gen_output)\n",
    "    ms_ssim_loss_val = (1 - tf.math.reduce_mean(tf.image.ssim_multiscale(target, gen_output, 1, power_factors=(0.4, 0.25, 0.25, 0.2363, 0.1333))))\n",
    "\n",
    "    \n",
    "    vgg_loss_val = vgg16_loss_1_3(target, gen_output)\n",
    "\n",
    "    total_gen_loss_val = 0.5 * l1_loss_val + 1 * ms_ssim_loss_val  + 0.08 * vgg_loss_val\n",
    "\n",
    "    return total_gen_loss_val, [l1_loss_val, ms_ssim_loss_val, vgg_loss_val]"
   ]
  },
  {
   "cell_type": "markdown",
   "metadata": {},
   "source": [
    "## Define the Optimizers and Checkpoint-saver"
   ]
  },
  {
   "cell_type": "code",
   "execution_count": 26,
   "metadata": {},
   "outputs": [
    {
     "data": {
      "text/plain": [
       "'decay_steps = 1000\\ninitial_learning_rate_generator = 2e-4\\ninitial_learning_rate_discriminator = 1e-4\\n\\nstep_decay = 1e-2\\n\\nboundaries = [1000]\\n\\nstep_decay_gen = tf.keras.optimizers.schedules.PiecewiseConstantDecay(boundaries, [initial_learning_rate_generator, initial_learning_rate_generator*step_decay])'"
      ]
     },
     "execution_count": 26,
     "metadata": {},
     "output_type": "execute_result"
    }
   ],
   "source": [
    "\"\"\"decay_steps = 1000\n",
    "initial_learning_rate_generator = 2e-4\n",
    "initial_learning_rate_discriminator = 1e-4\n",
    "\n",
    "step_decay = 1e-2\n",
    "\n",
    "boundaries = [1000]\n",
    "\n",
    "step_decay_gen = tf.keras.optimizers.schedules.PiecewiseConstantDecay(boundaries, [initial_learning_rate_generator, initial_learning_rate_generator*step_decay])\"\"\""
   ]
  },
  {
   "cell_type": "code",
   "execution_count": 18,
   "metadata": {},
   "outputs": [],
   "source": [
    "#generator_optimizer = tf.keras.optimizers.Adam(step_decay_gen, beta_1=0.5)\n",
    "import tensorflow_addons as tfa\n",
    "\n",
    "radam = tfa.optimizers.RectifiedAdam(lr=2e-4)\n",
    "generator_optimizer = tfa.optimizers.Lookahead(radam, sync_period=6, slow_step_size=0.5)"
   ]
  },
  {
   "cell_type": "code",
   "execution_count": 19,
   "metadata": {},
   "outputs": [],
   "source": [
    "checkpoint_dir = '/shared/p00536919/training_checkpoints/flare_removal/' + datetime.now().strftime(\"%Y%m%d-%H%M%S\")+\"_capturing\"\n",
    "checkpoint_prefix = os.path.join(checkpoint_dir, \"ckpt\")\n",
    "checkpoint = tf.train.Checkpoint(generator_optimizer=generator_optimizer, generator=generator)"
   ]
  },
  {
   "cell_type": "markdown",
   "metadata": {},
   "source": [
    "## Training"
   ]
  },
  {
   "cell_type": "code",
   "execution_count": 20,
   "metadata": {},
   "outputs": [],
   "source": [
    "log_dir=r\"/shared/p00536919/logs/flare_removal/\"\n",
    "\n",
    "summary_writer = tf.summary.create_file_writer(\n",
    "  log_dir + \"fit/\" + datetime.now().strftime(\"%Y%m%d-%H%M%S\")+\"_capturing\")\n",
    "\n",
    "file_writer_img = tf.summary.create_file_writer(log_dir + \"fit/\" + datetime.now().strftime(\"%Y%m%d-%H%M%S\")+\"_capturing\" + '/img')"
   ]
  },
  {
   "cell_type": "code",
   "execution_count": 70,
   "metadata": {},
   "outputs": [],
   "source": [
    "from train_utils.train  import train_step "
   ]
  },
  {
   "cell_type": "code",
   "execution_count": 71,
   "metadata": {},
   "outputs": [],
   "source": [
    "train_step = train_step.make_train_step()"
   ]
  },
  {
   "cell_type": "code",
   "execution_count": 72,
   "metadata": {},
   "outputs": [],
   "source": [
    "import albumentations as A"
   ]
  },
  {
   "cell_type": "code",
   "execution_count": 73,
   "metadata": {},
   "outputs": [],
   "source": [
    "transform = A.Compose(\n",
    "    [A.VerticalFlip(p=0.5), \n",
    "     A.HorizontalFlip(p=0.5), \n",
    "     A.RandomScale (scale_limit=(1,2), interpolation=1, always_apply=False, p=0.5),\n",
    "     A.RandomCrop(224, 224, always_apply=False, p=1.0), \n",
    "     A.ChannelShuffle(p=0.5)],\n",
    "    additional_targets={'image0': 'image'}\n",
    ")"
   ]
  },
  {
   "cell_type": "code",
   "execution_count": 74,
   "metadata": {},
   "outputs": [],
   "source": [
    "def fit(epochs, run):\n",
    "           \n",
    "    for epoch in range(epochs):  \n",
    "        epoch += int(epochs * run)\n",
    "        start = time.time()\n",
    "        display.clear_output(wait=True)\n",
    "        \n",
    "        if (epoch+1) % 50 == 0:\n",
    "            generator.save_weights(\"log_weights0_capturing.hdf5\")\n",
    "            with tf.device('/GPU:0'):\n",
    "                tf.keras.backend.clear_session()\n",
    "                test_generator = Generator()\n",
    "                test_generator.load_weights('log_weights0_capturing.hdf5')                \n",
    "                #test_image = np.zeros((2448, 3264, 6))\n",
    "                ing_index = np.random.randint(len(usc_arrays_downscaled))\n",
    "                test_image = usc_arrays_downscaled[ing_index][np.newaxis, :264, :480, :]\n",
    "                test_image = tf.cast(test_image, tf.float32)\n",
    "                #test_image = tf.image.resize(test_image, [256,256])\n",
    "                preds = test_generator(tf.transpose(test_image,[0,3,1,2]), training=True)  \n",
    "                preds = tf.transpose(preds, [0,2,3,1])\n",
    "            \n",
    "            with file_writer_img.as_default():                \n",
    "                tf.summary.image(\"Input_image\", usc_arrays_downscaled[ing_index][np.newaxis, :264, :480, :3], step=epoch)\n",
    "                tf.summary.image(\"Ground truth\", gt_arrays_downscaled[ing_index][np.newaxis, :264, :480, :3], step=epoch)\n",
    "                tf.summary.image(\"Model results\", preds.numpy()[:, :,:,:3], step=epoch)\n",
    "                \n",
    "                \n",
    "        print(\"Epoch: \", epoch)\n",
    "        train_data_generator.on_epoch_end()\n",
    "        # Train\n",
    "        gen_total_loss, l1_loss_val, ms_ssim_loss_val, vgg_loss_val  = 0, 0, 0, 0\n",
    "        \n",
    "        for n, (input_image, target) in enumerate(train_data_generator):\n",
    "            print('.', end='')\n",
    "            if (n+1) % 100 == 0:\n",
    "                print('\\n')\n",
    "            input_image = np.array(input_image)            \n",
    "            target = np.array(target)\n",
    "            transformed = transform(image=input_image[0], image0=target[0])\n",
    "            \n",
    "            input_image = transformed['image'][np.newaxis,...]\n",
    "            target = transformed['image0'][np.newaxis,...]\n",
    "            \n",
    "            input_image = tf.cast(input_image, tf.float32)\n",
    "            target = tf.cast(target, tf.float32)\n",
    "            losses = train_step(input_image=tf.transpose(tf.cast(input_image, tf.float32), [0,3,1,2]),\n",
    "                                    target=tf.transpose(target,[0,3,1,2]),\n",
    "                                    generator=generator,                                    \n",
    "                                    generator_loss=generator_loss,\n",
    "                                    generator_optimizer=generator_optimizer,\n",
    "                                    training=True)\n",
    "            \n",
    "            gen_total_loss += losses[0]\n",
    "            \n",
    "            l1_loss_val += losses[1][0]\n",
    "            ms_ssim_loss_val += losses[1][1]\n",
    "            vgg_loss_val += losses[1][2]\n",
    "            \n",
    "            \n",
    "            \n",
    "        print()\n",
    "        with summary_writer.as_default():\n",
    "            tf.summary.scalar('gen_total_loss', gen_total_loss/len(train_data_generator), step=epoch)\n",
    "            #tf.summary.scalar('gan_loss_val', gan_loss_val/len(train_data_generator), step=epoch)\n",
    "            tf.summary.scalar('l1_loss_val', l1_loss_val/len(train_data_generator), step=epoch)\n",
    "            tf.summary.scalar('ms_ssim_loss_val', ms_ssim_loss_val/len(train_data_generator), step=epoch)\n",
    "            tf.summary.scalar('vgg_loss_val', vgg_loss_val/len(train_data_generator), step=epoch)\n",
    "            #tf.summary.scalar('vgg_loss_val', vgg_loss_val/len(train_data_generator), step=epoch)\n",
    "            #tf.summary.scalar('disc_loss ', disc_loss /len(train_data_generator), step=epoch)\n",
    "            \n",
    "        # saving (checkpoint) the model every 250 epochs\n",
    "        if (epoch + 1) % 100 == 0:\n",
    "            checkpoint.save(file_prefix = checkpoint_prefix)\n",
    "            \n",
    "        \"\"\"if (epoch + 1) % 1000 == 0:\n",
    "            generator.save_weights(\"avg_weights_gen_{}-1.hdf5\".format(epoch))\n",
    "            #discriminator.save_weights(\"avg_weights_disc_{}-1.hdf5\".format(epoch))\"\"\"\n",
    "            \n",
    "        print ('Time taken for epoch {} is {} sec\\n'.format(epoch + 1,\n",
    "                                                                time.time()-start))\n"
   ]
  },
  {
   "cell_type": "code",
   "execution_count": null,
   "metadata": {},
   "outputs": [
    {
     "name": "stdout",
     "output_type": "stream",
     "text": [
      "Epoch:  3562\n",
      "....................................................................................................\n",
      "\n",
      "....................................................................................................\n",
      "\n",
      "....................................................................................................\n",
      "\n",
      "....................................................................................................\n",
      "\n",
      "....................................................................................................\n",
      "\n",
      "....................................................................................................\n",
      "\n",
      "....................................................................................................\n",
      "\n",
      "....................................................................................................\n",
      "\n",
      ".........."
     ]
    }
   ],
   "source": [
    "for i in range(100):\n",
    "    fit(EPOCHS, i)"
   ]
  },
  {
   "cell_type": "markdown",
   "metadata": {},
   "source": [
    "### Restore from checkpoint"
   ]
  },
  {
   "cell_type": "code",
   "execution_count": 69,
   "metadata": {},
   "outputs": [
    {
     "data": {
      "text/plain": [
       "<tensorflow.python.training.tracking.util.CheckpointLoadStatus at 0x7f87bc185290>"
      ]
     },
     "execution_count": 69,
     "metadata": {},
     "output_type": "execute_result"
    }
   ],
   "source": [
    "checkpoint.restore(\"/shared/p00536919/training_checkpoints/flare_removal/20200114-114537/ckpt-10\")"
   ]
  },
  {
   "cell_type": "markdown",
   "metadata": {},
   "source": [
    "### Save Models"
   ]
  },
  {
   "cell_type": "code",
   "execution_count": 51,
   "metadata": {},
   "outputs": [],
   "source": [
    "generator.save_weights(r'./weights/trained_vanilla_pix2pix_hist_superlight_no_rescale_FINAL_gen_no_gamma_11_5_2020.hdf5')\n",
    "discriminator.save_weights(r'./weights/trained_vanilla_pix2pix_hist_superlight_no_rescale_FINAL_disc_no_gamma_18_5_2020.hdf5')"
   ]
  },
  {
   "cell_type": "code",
   "execution_count": 39,
   "metadata": {
    "pycharm": {
     "name": "#%%\n"
    }
   },
   "outputs": [],
   "source": [
    "generator.load_weights(r'F:\\models\\new_approach_gen_27_2_2020.hdf5')\n",
    "discriminator.load_weights(r'F:\\models\\new_approach_disc_27_2_2020.hdf5')"
   ]
  },
  {
   "cell_type": "code",
   "execution_count": 68,
   "metadata": {},
   "outputs": [],
   "source": [
    "plt.imsave(r\"usc1.png\", usc_arrays_downscaled[495][:296, :408, :])"
   ]
  },
  {
   "cell_type": "code",
   "execution_count": 69,
   "metadata": {},
   "outputs": [],
   "source": [
    "plt.imsave(r\"gt1.png\", gt_arrays_downscaled[495][:296, :408, :])"
   ]
  },
  {
   "cell_type": "code",
   "execution_count": 72,
   "metadata": {},
   "outputs": [],
   "source": [
    "test_image = usc_arrays_downscaled[495][np.newaxis, :296, :408, :]\n",
    "test_image = tf.cast(test_image, tf.float32)\n",
    "#test_image = tf.image.resize(test_image, [256,256])\n",
    "preds = generator(tf.transpose(test_image,[0,3,1,2]), training=True)  \n",
    "preds = tf.transpose(preds, [0,2,3,1])\n",
    "plt.imsave(r\"preds1.png\", np.clip(preds.numpy(),0,1)[0])"
   ]
  },
  {
   "cell_type": "code",
   "execution_count": 74,
   "metadata": {},
   "outputs": [
    {
     "data": {
      "text/plain": [
       "'2.2.0'"
      ]
     },
     "execution_count": 74,
     "metadata": {},
     "output_type": "execute_result"
    }
   ],
   "source": [
    "tf.__version__"
   ]
  },
  {
   "cell_type": "code",
   "execution_count": null,
   "metadata": {},
   "outputs": [],
   "source": []
  }
 ],
 "metadata": {
  "kernelspec": {
   "display_name": "Python 3",
   "language": "python",
   "name": "python3"
  },
  "language_info": {
   "codemirror_mode": {
    "name": "ipython",
    "version": 3
   },
   "file_extension": ".py",
   "mimetype": "text/x-python",
   "name": "python",
   "nbconvert_exporter": "python",
   "pygments_lexer": "ipython3",
   "version": "3.8.2"
  },
  "pycharm": {
   "stem_cell": {
    "cell_type": "raw",
    "metadata": {
     "collapsed": false
    },
    "source": []
   }
  }
 },
 "nbformat": 4,
 "nbformat_minor": 4
}
